{
 "cells": [
  {
   "cell_type": "markdown",
   "metadata": {},
   "source": [
    "Break the list\n",
    "Description\n",
    "Write a Python program to divide a given list into chunks of size k.\n",
    "\n",
    "The number of elements in the list need not to be divisible by k.\n",
    "For example, if you want to divide the list [1,2,3,4,5,6,7] into chunk size k=4, then the first chunk will be [1,2,3,4] and the second one will have [5,6,7]. i.e. the last chunk need not have k elements.\n",
    "The input will have two lines, the first line would have the list and the second line would have the value of k.(the code for taking input has already been written, you should not change that)\n",
    "The final output should have the list chunks in different lines.\n",
    "\n",
    "Sample Input:\n",
    "[1,2,3,4,5,6,7,8,9]\n",
    "3\n",
    "Sample Output:\n",
    "\n",
    "[1, 2, 3]\n",
    "[4, 5, 6]\n",
    "[7, 8, 9]\n"
   ]
  },
  {
   "cell_type": "code",
   "execution_count": 3,
   "metadata": {},
   "outputs": [],
   "source": [
    "input_list=[[1,2,3,4,5,6,7,8,9],3]\n",
    "lis=input_list[0]\n",
    "k=input_list[1]"
   ]
  },
  {
   "cell_type": "code",
   "execution_count": 22,
   "metadata": {},
   "outputs": [
    {
     "data": {
      "text/plain": [
       "3"
      ]
     },
     "execution_count": 22,
     "metadata": {},
     "output_type": "execute_result"
    }
   ],
   "source": [
    "k"
   ]
  },
  {
   "cell_type": "code",
   "execution_count": 26,
   "metadata": {},
   "outputs": [
    {
     "name": "stdout",
     "output_type": "stream",
     "text": [
      "[1, 2, 3]\n",
      "[4, 5, 6]\n",
      "[7, 8, 9]\n"
     ]
    }
   ],
   "source": [
    "[lis[x:x+k] for x in range(0, len(lis), k)]\n",
    "for i in sublists:\n",
    "    print(i)"
   ]
  },
  {
   "cell_type": "code",
   "execution_count": 1,
   "metadata": {},
   "outputs": [
    {
     "name": "stdout",
     "output_type": "stream",
     "text": [
      "[1, 2, 3]\n",
      "[4, 5, 6]\n",
      "[7, 8, 9]\n"
     ]
    }
   ],
   "source": [
    "input_list=[[1,2,3,4,5,6,7,8,9],3]\n",
    "lis=input_list[0]\n",
    "k=input_list[1]\n",
    "for i in range(0, len(lis), k):  \n",
    "    print(lis[i:i + k]) "
   ]
  },
  {
   "cell_type": "markdown",
   "metadata": {},
   "source": [
    "Scrabble\n",
    "Description\n",
    "Assume that you are trying to complete a crossword puzzle. In a crossword puzzle, some letters are given and you have to figure out which complete word can you make out of it.\n",
    "For example, given letters \"cwd\"in the same order, you can make the word  \"crossword\" or \"crowd\" with it. But if \"dw\" is given in that order, you cannot make \"crossword\" out of it because d and w are in the opposite order here.\n",
    "\n",
    "You want to find an efficient method and write a code for this process. \n",
    "The code will take two strings as input in two lines. The first string will contain letters on the crossword(\"cwd\"), and the second string will contain a word that you want to check.(i.e. you want to check whether the word can be made out of given letters in the same order).\n",
    "The output should say \"yes\" if the word can be formed, else it should say \"no\"\n",
    "Sample Input 1:\n",
    "ccwd\n",
    "crossword\n",
    "Sample Output1:\n",
    "no\n",
    "\n",
    "Sample Input 2:\n",
    "cwd\n",
    "crossword\n",
    "Sample Output 2:\n",
    "yes\n",
    "\n",
    "Note: Using regex is also one of the ways of solving this problem. You can read more about regex(regular expressions) here. Although, you can simply use loops and conditionals too to solve the problem.\n",
    "Execution Time Limit\n",
    "15 seconds"
   ]
  },
  {
   "cell_type": "markdown",
   "metadata": {},
   "source": [
    "for checking a substring : example----"
   ]
  },
  {
   "cell_type": "code",
   "execution_count": 40,
   "metadata": {},
   "outputs": [
    {
     "data": {
      "text/plain": [
       "False"
      ]
     },
     "execution_count": 40,
     "metadata": {},
     "output_type": "execute_result"
    }
   ],
   "source": [
    "import re\n",
    "a = \"I believe that the biggest castle in the world is Prague Castle \"\n",
    "b = r'\\b' + r'\\b.*\\b'.join(re.escape(word) for word in \"the bigst castle\".split(' ')) + r'\\b'\n",
    "bool(re.search(b, a))"
   ]
  },
  {
   "cell_type": "code",
   "execution_count": 57,
   "metadata": {},
   "outputs": [
    {
     "name": "stdin",
     "output_type": "stream",
     "text": [
      " sor\n",
      " cross\n"
     ]
    },
    {
     "name": "stdout",
     "output_type": "stream",
     "text": [
      "No\n"
     ]
    }
   ],
   "source": [
    "letters=input()#letters already in the crossword\n",
    "guess=input()#word to check for fit\n",
    "letters = '.*'.join(list(letters))\n",
    "if bool(re.search(letters, guess)):\n",
    "    print(\"Yes\")\n",
    "else:\n",
    "    print(\"No\")"
   ]
  },
  {
   "cell_type": "code",
   "execution_count": 58,
   "metadata": {},
   "outputs": [
    {
     "name": "stdin",
     "output_type": "stream",
     "text": [
      " crw\n",
      " crossword\n"
     ]
    },
    {
     "name": "stdout",
     "output_type": "stream",
     "text": [
      "yes\n"
     ]
    }
   ],
   "source": [
    "#alternate solution\n",
    "letters=input()#letters already in the crossword\n",
    "guess=input()#word to check for fit\n",
    "i = 0\n",
    "for w in guess:\n",
    "    if w == letters[i]: \n",
    "        i += 1\n",
    "        if i >= len(letters): break\n",
    "\n",
    "if (i == len(letters)):\n",
    "    print('yes')\n",
    "else:\n",
    "    print('no')\n",
    "    "
   ]
  },
  {
   "cell_type": "code",
   "execution_count": null,
   "metadata": {},
   "outputs": [],
   "source": [
    "### Paying the rent\n",
    "Description\n",
    "You are moving to a new city for an internship for a few months and have to rent a house for that purpose.\n",
    "You have to pay the full month's house rent even if you have lived for a few days for that month. i.e. \n",
    "if you start on 15th Jan and leave by 15th May, you still have to pay full rent for months of Jan and May too.\n",
    "\n",
    "Your task is to find the months that you have to pay rent for so that you can write post-dated cheques to your landlord.\n",
    "\n",
    "You will be given two dates as input and your task is to print all months between the dates including the months the dates are from.\n",
    "The input will contain the two dates in a list as follows:\n",
    "[2017,1,1,2017,3,4] which corresponds to 1st Jan, 2017 and 4th March, 2017. This date is in the format(yyyy,mm,dd)\n",
    "(the code for taking input has already been written for you, please don't modify that)\n",
    "The output should contain a list with names of months you have to pay the rent for(the list should be sorted chronologically  based on months, i.e May should come before August). You can assume that there won't be more than 12 months between two dates.\n",
    "You'll need to use the datetime module for this problem which can be referred to here. You can choose to use any other method too.\n",
    "\n",
    "Sample Input:\n",
    "[2017,1,1,2017,1,1]\n",
    "Sample Output:\n",
    "['January']\n"
   ]
  },
  {
   "cell_type": "code",
   "execution_count": null,
   "metadata": {},
   "outputs": [],
   "source": []
  },
  {
   "cell_type": "code",
   "execution_count": 10,
   "metadata": {},
   "outputs": [
    {
     "name": "stdout",
     "output_type": "stream",
     "text": [
      "2017-08-01 \n",
      " 2018-02-01\n"
     ]
    }
   ],
   "source": [
    "import datetime\n",
    "from datetime import date\n",
    "input_list=[2017,8,1,2018,2,1]\n",
    "dateStart=datetime.date(input_list[0],input_list[1],input_list[2])\n",
    "dateEnd=datetime.date(input_list[3],input_list[4],input_list[5])\n",
    "print(dateStart,\"\\n\",dateEnd)"
   ]
  },
  {
   "cell_type": "code",
   "execution_count": 114,
   "metadata": {},
   "outputs": [
    {
     "data": {
      "text/plain": [
       "-184"
      ]
     },
     "execution_count": 114,
     "metadata": {},
     "output_type": "execute_result"
    }
   ],
   "source": [
    "diff=dateStart - dateEnd\n",
    "diff.days"
   ]
  },
  {
   "cell_type": "code",
   "execution_count": 115,
   "metadata": {},
   "outputs": [
    {
     "data": {
      "text/plain": [
       "8"
      ]
     },
     "execution_count": 115,
     "metadata": {},
     "output_type": "execute_result"
    }
   ],
   "source": [
    "\n",
    "dateStart.month\n"
   ]
  },
  {
   "cell_type": "code",
   "execution_count": 12,
   "metadata": {},
   "outputs": [
    {
     "data": {
      "text/plain": [
       "'August'"
      ]
     },
     "execution_count": 12,
     "metadata": {},
     "output_type": "execute_result"
    }
   ],
   "source": [
    "import calendar\n",
    "calendar.month_name[dateStart.month]"
   ]
  },
  {
   "cell_type": "code",
   "execution_count": 117,
   "metadata": {},
   "outputs": [],
   "source": [
    "if dateStart.month==dateEnd.month:\n",
    "    print([calendar.month_name[dateStart.month]])"
   ]
  },
  {
   "cell_type": "code",
   "execution_count": 13,
   "metadata": {},
   "outputs": [
    {
     "data": {
      "text/plain": [
       "DatetimeIndex(['2017-08-31', '2017-09-30', '2017-10-31', '2017-11-30',\n",
       "               '2017-12-31', '2018-01-31', '2018-02-28'],\n",
       "              dtype='datetime64[ns]', freq='M')"
      ]
     },
     "execution_count": 13,
     "metadata": {},
     "output_type": "execute_result"
    }
   ],
   "source": [
    "import pandas as pd\n",
    "dates=pd.date_range(dateStart, dateEnd+ pd.offsets.MonthEnd(),freq=\"M\", closed=None)\n",
    "dates"
   ]
  },
  {
   "cell_type": "code",
   "execution_count": 125,
   "metadata": {},
   "outputs": [
    {
     "name": "stdout",
     "output_type": "stream",
     "text": [
      "['August', 'September', 'October', 'November', 'December', 'January', 'February']\n"
     ]
    }
   ],
   "source": [
    "l=[]\n",
    "for month_idx in dates.month:\n",
    "    l.append(calendar.month_name[month_idx])\n",
    "print (l)\n",
    "   "
   ]
  },
  {
   "cell_type": "code",
   "execution_count": 2,
   "metadata": {},
   "outputs": [
    {
     "name": "stdout",
     "output_type": "stream",
     "text": [
      "2017-08-01 \n",
      " 2018-02-01\n",
      "['January', 'February', 'August', 'September', 'October', 'November', 'December']\n"
     ]
    }
   ],
   "source": [
    "import datetime\n",
    "from datetime import date\n",
    "input_list=[2017,8,1,2018,2,1]\n",
    "dateStart=datetime.date(input_list[0],input_list[1],input_list[2])\n",
    "dateEnd=datetime.date(input_list[3],input_list[4],input_list[5])\n",
    "print(dateStart,\"\\n\",dateEnd)\n",
    "import calendar\n",
    "calendar.month_name[dateStart.month]\n",
    "import pandas as pd\n",
    "dates=pd.date_range(dateStart, dateEnd+ pd.offsets.MonthEnd(),freq=\"M\", closed=None)\n",
    "l=[]\n",
    "for month_idx in dates.month:\n",
    "    l.append(month_idx)\n",
    "n=[]\n",
    "for i in sorted(l):\n",
    "    n.append(calendar.month_name[i])\n",
    "print (n)\n",
    "    \n",
    "   "
   ]
  },
  {
   "cell_type": "code",
   "execution_count": 42,
   "metadata": {},
   "outputs": [],
   "source": [
    "def calculate_monthdelta(date1, date2):\n",
    "    print(abs(date1.year - date2.year) * 12 + abs(date1.month - date2.month))"
   ]
  },
  {
   "cell_type": "code",
   "execution_count": 43,
   "metadata": {},
   "outputs": [
    {
     "name": "stdout",
     "output_type": "stream",
     "text": [
      "18\n"
     ]
    }
   ],
   "source": [
    "calculate_monthdelta(dateStart,dateEnd)"
   ]
  },
  {
   "cell_type": "code",
   "execution_count": 51,
   "metadata": {},
   "outputs": [
    {
     "data": {
      "text/plain": [
       "array([ 3,  4,  5,  6,  7,  8,  9, 10, 11, 12,  1,  2,  3,  4,  5,  6,  7,\n",
       "        8], dtype=int64)"
      ]
     },
     "execution_count": 51,
     "metadata": {},
     "output_type": "execute_result"
    }
   ],
   "source": []
  },
  {
   "cell_type": "code",
   "execution_count": 55,
   "metadata": {},
   "outputs": [],
   "source": []
  },
  {
   "cell_type": "code",
   "execution_count": 66,
   "metadata": {},
   "outputs": [
    {
     "data": {
      "text/plain": [
       "array([ 3,  4,  5,  6,  7,  8,  9, 10, 11, 12,  1,  2,  3,  4,  5,  6,  7,\n",
       "        8], dtype=int64)"
      ]
     },
     "execution_count": 66,
     "metadata": {},
     "output_type": "execute_result"
    }
   ],
   "source": []
  },
  {
   "cell_type": "code",
   "execution_count": 64,
   "metadata": {},
   "outputs": [
    {
     "data": {
      "text/plain": [
       "array([ 3,  4,  5,  6,  7,  8,  9, 10, 11, 12,  1,  2,  3,  4,  5,  6,  7,\n",
       "        8], dtype=int64)"
      ]
     },
     "execution_count": 64,
     "metadata": {},
     "output_type": "execute_result"
    }
   ],
   "source": []
  },
  {
   "cell_type": "code",
   "execution_count": 33,
   "metadata": {},
   "outputs": [
    {
     "name": "stdout",
     "output_type": "stream",
     "text": [
      "2017-03-01\n",
      "2017-04-01\n",
      "2017-05-01\n",
      "2017-06-01\n",
      "2017-07-01\n",
      "2017-08-01\n",
      "2017-09-01\n",
      "2017-10-01\n",
      "2017-11-01\n",
      "2017-12-01\n",
      "2018-01-01\n",
      "2018-02-01\n",
      "2018-03-01\n",
      "2018-04-01\n",
      "2018-05-01\n",
      "2018-06-01\n",
      "2018-07-01\n",
      "2018-08-01\n",
      "2018-09-01\n"
     ]
    }
   ],
   "source": [
    "from datetime import datetime\n",
    "from dateutil.relativedelta import relativedelta\n",
    "while dateStart < dateEnd:\n",
    "    print(dateStart)\n",
    "    dateStart += relativedelta(months=1)"
   ]
  },
  {
   "cell_type": "code",
   "execution_count": null,
   "metadata": {},
   "outputs": [],
   "source": []
  },
  {
   "cell_type": "markdown",
   "metadata": {},
   "source": [
    "### remove empty lists from the list"
   ]
  },
  {
   "cell_type": "code",
   "execution_count": 141,
   "metadata": {},
   "outputs": [],
   "source": [
    "list1=[1,2,3,[1,2],[],[1,2],\"x\",[\"1\"],[],\" \",1]"
   ]
  },
  {
   "cell_type": "code",
   "execution_count": 142,
   "metadata": {},
   "outputs": [
    {
     "data": {
      "text/plain": [
       "<filter at 0x55c80f0>"
      ]
     },
     "execution_count": 142,
     "metadata": {},
     "output_type": "execute_result"
    }
   ],
   "source": [
    "list2 = filter(None, list1)\n",
    "list2"
   ]
  },
  {
   "cell_type": "code",
   "execution_count": 143,
   "metadata": {},
   "outputs": [
    {
     "name": "stdout",
     "output_type": "stream",
     "text": [
      "[1, 2, 3, [1, 2], [1, 2], 'x', ['1'], ' ', 1]\n"
     ]
    }
   ],
   "source": [
    "list2 = []\n",
    "for item in list1:\n",
    "    if item!=[]:\n",
    "        list2.append(item)\n",
    "print(list2)"
   ]
  },
  {
   "cell_type": "code",
   "execution_count": 144,
   "metadata": {},
   "outputs": [
    {
     "name": "stdout",
     "output_type": "stream",
     "text": [
      "[1, 2, 3, [1, 2], [1, 2], 'x', ['1'], ' ', 1]\n"
     ]
    }
   ],
   "source": [
    "print([e for e in list1 if e])"
   ]
  },
  {
   "cell_type": "code",
   "execution_count": 146,
   "metadata": {},
   "outputs": [
    {
     "name": "stdout",
     "output_type": "stream",
     "text": [
      "[1, 2, 3, [1, 2], [1, 2], 'x', ['1'], ' ', 1]\n"
     ]
    }
   ],
   "source": [
    "print([e for e in list1 if e!=[]])"
   ]
  },
  {
   "cell_type": "code",
   "execution_count": null,
   "metadata": {},
   "outputs": [],
   "source": []
  },
  {
   "cell_type": "code",
   "execution_count": null,
   "metadata": {},
   "outputs": [],
   "source": []
  },
  {
   "cell_type": "markdown",
   "metadata": {},
   "source": [
    "Q-2 Description\n",
    "You are provided with the community and crime dataset. \n",
    "\n",
    "Your task is to print the number of rows and name of columns. Assign the number of rows to a new variable named 'n_row' and the number of columns to a variable named 'n_column'.\n",
    "\n",
    "The dataset can be found at 'https://media-doselect.s3.amazonaws.com/generic/ka2eL88aayAyB3W7eRVL1xWq/communities_final.csv'. "
   ]
  },
  {
   "cell_type": "code",
   "execution_count": 1,
   "metadata": {},
   "outputs": [
    {
     "name": "stdout",
     "output_type": "stream",
     "text": [
      "1994\n",
      "128\n"
     ]
    }
   ],
   "source": [
    "Q-2 Description\n",
    "You are provided with the community and crime dataset. \n",
    "\n",
    "Your task is to print the number of rows and name of columns. Assign the number of rows to a new variable named 'n_row' and the number of columns to a variable named 'n_column'.\n",
    "\n",
    "The dataset can be found at 'https://media-doselect.s3.amazonaws.com/generic/ka2eL88aayAyB3W7eRVL1xWq/communities_final.csv'. \n",
    "\n",
    "\n",
    "import numpy as np\n",
    "import pandas as pd\n",
    "\n",
    "# Read training data\n",
    "df = pd.read_csv('https://media-doselect.s3.amazonaws.com/generic/ka2eL88aayAyB3W7eRVL1xWq/communities_final.csv')\n",
    "\n",
    "# Assign number of rows to a new variable\n",
    "n_row = df.shape[0]\n",
    "\n",
    "# Assign number of columns to a new variable\n",
    "n_column = df.shape[1]\n",
    "\n",
    "print(n_row)\n",
    "print(n_column)"
   ]
  },
  {
   "cell_type": "code",
   "execution_count": 2,
   "metadata": {},
   "outputs": [
    {
     "data": {
      "text/plain": [
       "(1994, 128)"
      ]
     },
     "execution_count": 2,
     "metadata": {},
     "output_type": "execute_result"
    }
   ],
   "source": [
    "df.shape"
   ]
  },
  {
   "cell_type": "code",
   "execution_count": null,
   "metadata": {},
   "outputs": [],
   "source": []
  }
 ],
 "metadata": {
  "kernelspec": {
   "display_name": "Python 3",
   "language": "python",
   "name": "python3"
  },
  "language_info": {
   "codemirror_mode": {
    "name": "ipython",
    "version": 3
   },
   "file_extension": ".py",
   "mimetype": "text/x-python",
   "name": "python",
   "nbconvert_exporter": "python",
   "pygments_lexer": "ipython3",
   "version": "3.7.0"
  }
 },
 "nbformat": 4,
 "nbformat_minor": 2
}
