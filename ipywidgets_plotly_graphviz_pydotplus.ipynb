{
 "cells": [
  {
   "cell_type": "code",
   "execution_count": 1,
   "metadata": {},
   "outputs": [
    {
     "name": "stdout",
     "output_type": "stream",
     "text": [
      "Collecting jupyterthemes\n",
      "  Downloading https://files.pythonhosted.org/packages/8a/08/9dee6dfd7f2aad6c30282d55c8f495b4dc1e4747b4e2bdbeb80572ddf312/jupyterthemes-0.20.0-py2.py3-none-any.whl (7.0MB)\n",
      "Requirement already satisfied: ipython>=5.4.1 in c:\\users\\shrey\\anaconda3\\lib\\site-packages (from jupyterthemes) (7.4.0)\n",
      "Requirement already satisfied: matplotlib>=1.4.3 in c:\\users\\shrey\\anaconda3\\lib\\site-packages (from jupyterthemes) (3.0.3)\n",
      "Collecting lesscpy>=0.11.2 (from jupyterthemes)\n",
      "  Downloading https://files.pythonhosted.org/packages/10/d0/fdd9874972e07ae8727a3d26b433891d8605b96999ea99bbf506e756a7b1/lesscpy-0.13.0-py2.py3-none-any.whl (48kB)\n",
      "Requirement already satisfied: notebook>=5.6.0 in c:\\users\\shrey\\anaconda3\\lib\\site-packages (from jupyterthemes) (5.7.8)\n",
      "Requirement already satisfied: jupyter-core in c:\\users\\shrey\\anaconda3\\lib\\site-packages (from jupyterthemes) (4.4.0)\n",
      "Requirement already satisfied: pygments in c:\\users\\shrey\\anaconda3\\lib\\site-packages (from ipython>=5.4.1->jupyterthemes) (2.3.1)\n",
      "Requirement already satisfied: backcall in c:\\users\\shrey\\anaconda3\\lib\\site-packages (from ipython>=5.4.1->jupyterthemes) (0.1.0)\n",
      "Requirement already satisfied: pickleshare in c:\\users\\shrey\\anaconda3\\lib\\site-packages (from ipython>=5.4.1->jupyterthemes) (0.7.5)\n",
      "Requirement already satisfied: jedi>=0.10 in c:\\users\\shrey\\anaconda3\\lib\\site-packages (from ipython>=5.4.1->jupyterthemes) (0.13.3)\n",
      "Requirement already satisfied: prompt-toolkit<2.1.0,>=2.0.0 in c:\\users\\shrey\\anaconda3\\lib\\site-packages (from ipython>=5.4.1->jupyterthemes) (2.0.9)\n",
      "Requirement already satisfied: setuptools>=18.5 in c:\\users\\shrey\\anaconda3\\lib\\site-packages (from ipython>=5.4.1->jupyterthemes) (40.8.0)\n",
      "Requirement already satisfied: traitlets>=4.2 in c:\\users\\shrey\\anaconda3\\lib\\site-packages (from ipython>=5.4.1->jupyterthemes) (4.3.2)\n",
      "Requirement already satisfied: decorator in c:\\users\\shrey\\anaconda3\\lib\\site-packages (from ipython>=5.4.1->jupyterthemes) (4.4.0)\n",
      "Requirement already satisfied: colorama; sys_platform == \"win32\" in c:\\users\\shrey\\anaconda3\\lib\\site-packages (from ipython>=5.4.1->jupyterthemes) (0.4.1)\n",
      "Requirement already satisfied: numpy>=1.10.0 in c:\\users\\shrey\\anaconda3\\lib\\site-packages (from matplotlib>=1.4.3->jupyterthemes) (1.16.2)\n",
      "Requirement already satisfied: cycler>=0.10 in c:\\users\\shrey\\anaconda3\\lib\\site-packages (from matplotlib>=1.4.3->jupyterthemes) (0.10.0)\n",
      "Requirement already satisfied: kiwisolver>=1.0.1 in c:\\users\\shrey\\anaconda3\\lib\\site-packages (from matplotlib>=1.4.3->jupyterthemes) (1.0.1)\n",
      "Requirement already satisfied: pyparsing!=2.0.4,!=2.1.2,!=2.1.6,>=2.0.1 in c:\\users\\shrey\\anaconda3\\lib\\site-packages (from matplotlib>=1.4.3->jupyterthemes) (2.3.1)\n",
      "Requirement already satisfied: python-dateutil>=2.1 in c:\\users\\shrey\\anaconda3\\lib\\site-packages (from matplotlib>=1.4.3->jupyterthemes) (2.8.0)\n",
      "Requirement already satisfied: ply in c:\\users\\shrey\\anaconda3\\lib\\site-packages (from lesscpy>=0.11.2->jupyterthemes) (3.11)\n",
      "Requirement already satisfied: six in c:\\users\\shrey\\anaconda3\\lib\\site-packages (from lesscpy>=0.11.2->jupyterthemes) (1.12.0)\n",
      "Requirement already satisfied: ipykernel in c:\\users\\shrey\\anaconda3\\lib\\site-packages (from notebook>=5.6.0->jupyterthemes) (5.1.0)\n",
      "Requirement already satisfied: prometheus-client in c:\\users\\shrey\\anaconda3\\lib\\site-packages (from notebook>=5.6.0->jupyterthemes) (0.6.0)\n",
      "Requirement already satisfied: ipython-genutils in c:\\users\\shrey\\anaconda3\\lib\\site-packages (from notebook>=5.6.0->jupyterthemes) (0.2.0)\n",
      "Requirement already satisfied: tornado<7,>=4.1 in c:\\users\\shrey\\anaconda3\\lib\\site-packages (from notebook>=5.6.0->jupyterthemes) (6.0.2)\n",
      "Requirement already satisfied: pyzmq>=17 in c:\\users\\shrey\\anaconda3\\lib\\site-packages (from notebook>=5.6.0->jupyterthemes) (18.0.0)\n",
      "Requirement already satisfied: jupyter-client>=5.2.0 in c:\\users\\shrey\\anaconda3\\lib\\site-packages (from notebook>=5.6.0->jupyterthemes) (5.2.4)\n",
      "Requirement already satisfied: terminado>=0.8.1 in c:\\users\\shrey\\anaconda3\\lib\\site-packages (from notebook>=5.6.0->jupyterthemes) (0.8.1)\n",
      "Requirement already satisfied: jinja2 in c:\\users\\shrey\\anaconda3\\lib\\site-packages (from notebook>=5.6.0->jupyterthemes) (2.10)\n",
      "Requirement already satisfied: nbconvert in c:\\users\\shrey\\anaconda3\\lib\\site-packages (from notebook>=5.6.0->jupyterthemes) (5.4.1)\n",
      "Requirement already satisfied: Send2Trash in c:\\users\\shrey\\anaconda3\\lib\\site-packages (from notebook>=5.6.0->jupyterthemes) (1.5.0)\n",
      "Requirement already satisfied: nbformat in c:\\users\\shrey\\anaconda3\\lib\\site-packages (from notebook>=5.6.0->jupyterthemes) (4.4.0)\n",
      "Requirement already satisfied: parso>=0.3.0 in c:\\users\\shrey\\anaconda3\\lib\\site-packages (from jedi>=0.10->ipython>=5.4.1->jupyterthemes) (0.3.4)\n",
      "Requirement already satisfied: wcwidth in c:\\users\\shrey\\anaconda3\\lib\\site-packages (from prompt-toolkit<2.1.0,>=2.0.0->ipython>=5.4.1->jupyterthemes) (0.1.7)\n",
      "Requirement already satisfied: MarkupSafe>=0.23 in c:\\users\\shrey\\anaconda3\\lib\\site-packages (from jinja2->notebook>=5.6.0->jupyterthemes) (1.1.1)\n",
      "Requirement already satisfied: mistune>=0.8.1 in c:\\users\\shrey\\anaconda3\\lib\\site-packages (from nbconvert->notebook>=5.6.0->jupyterthemes) (0.8.4)\n",
      "Requirement already satisfied: entrypoints>=0.2.2 in c:\\users\\shrey\\anaconda3\\lib\\site-packages (from nbconvert->notebook>=5.6.0->jupyterthemes) (0.3)\n",
      "Requirement already satisfied: bleach in c:\\users\\shrey\\anaconda3\\lib\\site-packages (from nbconvert->notebook>=5.6.0->jupyterthemes) (3.1.0)\n",
      "Requirement already satisfied: pandocfilters>=1.4.1 in c:\\users\\shrey\\anaconda3\\lib\\site-packages (from nbconvert->notebook>=5.6.0->jupyterthemes) (1.4.2)\n",
      "Requirement already satisfied: testpath in c:\\users\\shrey\\anaconda3\\lib\\site-packages (from nbconvert->notebook>=5.6.0->jupyterthemes) (0.4.2)\n",
      "Requirement already satisfied: defusedxml in c:\\users\\shrey\\anaconda3\\lib\\site-packages (from nbconvert->notebook>=5.6.0->jupyterthemes) (0.5.0)\n",
      "Requirement already satisfied: jsonschema!=2.5.0,>=2.4 in c:\\users\\shrey\\anaconda3\\lib\\site-packages (from nbformat->notebook>=5.6.0->jupyterthemes) (3.0.1)\n",
      "Requirement already satisfied: webencodings in c:\\users\\shrey\\anaconda3\\lib\\site-packages (from bleach->nbconvert->notebook>=5.6.0->jupyterthemes) (0.5.1)\n",
      "Requirement already satisfied: attrs>=17.4.0 in c:\\users\\shrey\\anaconda3\\lib\\site-packages (from jsonschema!=2.5.0,>=2.4->nbformat->notebook>=5.6.0->jupyterthemes) (19.1.0)\n",
      "Requirement already satisfied: pyrsistent>=0.14.0 in c:\\users\\shrey\\anaconda3\\lib\\site-packages (from jsonschema!=2.5.0,>=2.4->nbformat->notebook>=5.6.0->jupyterthemes) (0.14.11)\n",
      "Installing collected packages: lesscpy, jupyterthemes\n",
      "Successfully installed jupyterthemes-0.20.0 lesscpy-0.13.0\n"
     ]
    }
   ],
   "source": [
    "! pip install jupyterthemes"
   ]
  },
  {
   "cell_type": "code",
   "execution_count": 2,
   "metadata": {},
   "outputs": [
    {
     "name": "stdout",
     "output_type": "stream",
     "text": [
      "Collecting jupyter_contrib_nbextensions\n",
      "  Downloading https://files.pythonhosted.org/packages/33/f0/6e2c00afda860f655fbf0f795f7310bdbf12122846344dfdc803fc7455d5/jupyter_contrib_nbextensions-0.5.1-py2.py3-none-any.whl (20.9MB)\n",
      "Collecting jupyter-highlight-selected-word>=0.1.1 (from jupyter_contrib_nbextensions)\n",
      "  Downloading https://files.pythonhosted.org/packages/50/d7/19ab7cfd60bf268d2abbacc52d4295a40f52d74dfc0d938e4761ee5e598b/jupyter_highlight_selected_word-0.2.0-py2.py3-none-any.whl\n",
      "Requirement already satisfied: notebook>=4.0 in c:\\users\\shrey\\anaconda3\\lib\\site-packages (from jupyter_contrib_nbextensions) (5.7.8)\n",
      "Requirement already satisfied: lxml in c:\\users\\shrey\\anaconda3\\lib\\site-packages (from jupyter_contrib_nbextensions) (4.3.2)\n",
      "Requirement already satisfied: nbconvert>=4.2 in c:\\users\\shrey\\anaconda3\\lib\\site-packages (from jupyter_contrib_nbextensions) (5.4.1)\n",
      "Requirement already satisfied: tornado in c:\\users\\shrey\\anaconda3\\lib\\site-packages (from jupyter_contrib_nbextensions) (6.0.2)\n",
      "Requirement already satisfied: ipython-genutils in c:\\users\\shrey\\anaconda3\\lib\\site-packages (from jupyter_contrib_nbextensions) (0.2.0)\n",
      "Requirement already satisfied: traitlets>=4.1 in c:\\users\\shrey\\anaconda3\\lib\\site-packages (from jupyter_contrib_nbextensions) (4.3.2)\n",
      "Collecting jupyter-latex-envs>=1.3.8 (from jupyter_contrib_nbextensions)\n",
      "  Downloading https://files.pythonhosted.org/packages/0e/15/55805de080d5542f76920364635e96e64d3b37f678befdfe3b16aa154205/jupyter_latex_envs-1.4.6.tar.gz (861kB)\n",
      "Collecting jupyter-contrib-core>=0.3.3 (from jupyter_contrib_nbextensions)\n",
      "  Downloading https://files.pythonhosted.org/packages/e6/8f/04a752a8b66a66e7092c035e5d87d2502ac7ec07f9fb6059059b6c0dc272/jupyter_contrib_core-0.3.3-py2.py3-none-any.whl\n",
      "Collecting jupyter-nbextensions-configurator>=0.4.0 (from jupyter_contrib_nbextensions)\n",
      "  Downloading https://files.pythonhosted.org/packages/51/a3/d72d5f2dc10c5ccf5a6f4c79f636bf071a5ce462dedd07af2f70384db6cb/jupyter_nbextensions_configurator-0.4.1.tar.gz (479kB)\n",
      "Requirement already satisfied: pyyaml in c:\\users\\shrey\\anaconda3\\lib\\site-packages (from jupyter_contrib_nbextensions) (5.1)\n",
      "Requirement already satisfied: jupyter-core in c:\\users\\shrey\\anaconda3\\lib\\site-packages (from jupyter_contrib_nbextensions) (4.4.0)\n",
      "Requirement already satisfied: terminado>=0.8.1 in c:\\users\\shrey\\anaconda3\\lib\\site-packages (from notebook>=4.0->jupyter_contrib_nbextensions) (0.8.1)\n",
      "Requirement already satisfied: jinja2 in c:\\users\\shrey\\anaconda3\\lib\\site-packages (from notebook>=4.0->jupyter_contrib_nbextensions) (2.10)\n",
      "Requirement already satisfied: nbformat in c:\\users\\shrey\\anaconda3\\lib\\site-packages (from notebook>=4.0->jupyter_contrib_nbextensions) (4.4.0)\n",
      "Requirement already satisfied: Send2Trash in c:\\users\\shrey\\anaconda3\\lib\\site-packages (from notebook>=4.0->jupyter_contrib_nbextensions) (1.5.0)\n",
      "Requirement already satisfied: pyzmq>=17 in c:\\users\\shrey\\anaconda3\\lib\\site-packages (from notebook>=4.0->jupyter_contrib_nbextensions) (18.0.0)\n",
      "Requirement already satisfied: prometheus-client in c:\\users\\shrey\\anaconda3\\lib\\site-packages (from notebook>=4.0->jupyter_contrib_nbextensions) (0.6.0)\n",
      "Requirement already satisfied: ipykernel in c:\\users\\shrey\\anaconda3\\lib\\site-packages (from notebook>=4.0->jupyter_contrib_nbextensions) (5.1.0)\n",
      "Requirement already satisfied: jupyter-client>=5.2.0 in c:\\users\\shrey\\anaconda3\\lib\\site-packages (from notebook>=4.0->jupyter_contrib_nbextensions) (5.2.4)\n",
      "Requirement already satisfied: mistune>=0.8.1 in c:\\users\\shrey\\anaconda3\\lib\\site-packages (from nbconvert>=4.2->jupyter_contrib_nbextensions) (0.8.4)\n",
      "Requirement already satisfied: pygments in c:\\users\\shrey\\anaconda3\\lib\\site-packages (from nbconvert>=4.2->jupyter_contrib_nbextensions) (2.3.1)\n",
      "Requirement already satisfied: entrypoints>=0.2.2 in c:\\users\\shrey\\anaconda3\\lib\\site-packages (from nbconvert>=4.2->jupyter_contrib_nbextensions) (0.3)\n",
      "Requirement already satisfied: bleach in c:\\users\\shrey\\anaconda3\\lib\\site-packages (from nbconvert>=4.2->jupyter_contrib_nbextensions) (3.1.0)\n",
      "Requirement already satisfied: pandocfilters>=1.4.1 in c:\\users\\shrey\\anaconda3\\lib\\site-packages (from nbconvert>=4.2->jupyter_contrib_nbextensions) (1.4.2)\n",
      "Requirement already satisfied: testpath in c:\\users\\shrey\\anaconda3\\lib\\site-packages (from nbconvert>=4.2->jupyter_contrib_nbextensions) (0.4.2)\n",
      "Requirement already satisfied: defusedxml in c:\\users\\shrey\\anaconda3\\lib\\site-packages (from nbconvert>=4.2->jupyter_contrib_nbextensions) (0.5.0)\n",
      "Requirement already satisfied: six in c:\\users\\shrey\\anaconda3\\lib\\site-packages (from traitlets>=4.1->jupyter_contrib_nbextensions) (1.12.0)\n",
      "Requirement already satisfied: decorator in c:\\users\\shrey\\anaconda3\\lib\\site-packages (from traitlets>=4.1->jupyter_contrib_nbextensions) (4.4.0)\n",
      "Requirement already satisfied: ipython in c:\\users\\shrey\\anaconda3\\lib\\site-packages (from jupyter-latex-envs>=1.3.8->jupyter_contrib_nbextensions) (7.4.0)\n",
      "Requirement already satisfied: setuptools in c:\\users\\shrey\\anaconda3\\lib\\site-packages (from jupyter-contrib-core>=0.3.3->jupyter_contrib_nbextensions) (40.8.0)\n",
      "Requirement already satisfied: MarkupSafe>=0.23 in c:\\users\\shrey\\anaconda3\\lib\\site-packages (from jinja2->notebook>=4.0->jupyter_contrib_nbextensions) (1.1.1)\n",
      "Requirement already satisfied: jsonschema!=2.5.0,>=2.4 in c:\\users\\shrey\\anaconda3\\lib\\site-packages (from nbformat->notebook>=4.0->jupyter_contrib_nbextensions) (3.0.1)\n",
      "Requirement already satisfied: python-dateutil>=2.1 in c:\\users\\shrey\\anaconda3\\lib\\site-packages (from jupyter-client>=5.2.0->notebook>=4.0->jupyter_contrib_nbextensions) (2.8.0)\n",
      "Requirement already satisfied: webencodings in c:\\users\\shrey\\anaconda3\\lib\\site-packages (from bleach->nbconvert>=4.2->jupyter_contrib_nbextensions) (0.5.1)\n",
      "Requirement already satisfied: backcall in c:\\users\\shrey\\anaconda3\\lib\\site-packages (from ipython->jupyter-latex-envs>=1.3.8->jupyter_contrib_nbextensions) (0.1.0)\n",
      "Requirement already satisfied: jedi>=0.10 in c:\\users\\shrey\\anaconda3\\lib\\site-packages (from ipython->jupyter-latex-envs>=1.3.8->jupyter_contrib_nbextensions) (0.13.3)\n",
      "Requirement already satisfied: pickleshare in c:\\users\\shrey\\anaconda3\\lib\\site-packages (from ipython->jupyter-latex-envs>=1.3.8->jupyter_contrib_nbextensions) (0.7.5)\n",
      "Requirement already satisfied: prompt-toolkit<2.1.0,>=2.0.0 in c:\\users\\shrey\\anaconda3\\lib\\site-packages (from ipython->jupyter-latex-envs>=1.3.8->jupyter_contrib_nbextensions) (2.0.9)\n",
      "Requirement already satisfied: colorama; sys_platform == \"win32\" in c:\\users\\shrey\\anaconda3\\lib\\site-packages (from ipython->jupyter-latex-envs>=1.3.8->jupyter_contrib_nbextensions) (0.4.1)\n",
      "Requirement already satisfied: attrs>=17.4.0 in c:\\users\\shrey\\anaconda3\\lib\\site-packages (from jsonschema!=2.5.0,>=2.4->nbformat->notebook>=4.0->jupyter_contrib_nbextensions) (19.1.0)\n",
      "Requirement already satisfied: pyrsistent>=0.14.0 in c:\\users\\shrey\\anaconda3\\lib\\site-packages (from jsonschema!=2.5.0,>=2.4->nbformat->notebook>=4.0->jupyter_contrib_nbextensions) (0.14.11)\n",
      "Requirement already satisfied: parso>=0.3.0 in c:\\users\\shrey\\anaconda3\\lib\\site-packages (from jedi>=0.10->ipython->jupyter-latex-envs>=1.3.8->jupyter_contrib_nbextensions) (0.3.4)\n",
      "Requirement already satisfied: wcwidth in c:\\users\\shrey\\anaconda3\\lib\\site-packages (from prompt-toolkit<2.1.0,>=2.0.0->ipython->jupyter-latex-envs>=1.3.8->jupyter_contrib_nbextensions) (0.1.7)\n",
      "Building wheels for collected packages: jupyter-latex-envs, jupyter-nbextensions-configurator\n",
      "  Building wheel for jupyter-latex-envs (setup.py): started\n",
      "  Building wheel for jupyter-latex-envs (setup.py): finished with status 'done'\n",
      "  Stored in directory: C:\\Users\\shrey\\AppData\\Local\\pip\\Cache\\wheels\\0d\\71\\2a\\164491997299b9f2479a251e254323fe35d946779e18f27956\n",
      "  Building wheel for jupyter-nbextensions-configurator (setup.py): started\n",
      "  Building wheel for jupyter-nbextensions-configurator (setup.py): finished with status 'done'\n",
      "  Stored in directory: C:\\Users\\shrey\\AppData\\Local\\pip\\Cache\\wheels\\15\\df\\fe\\2a74fe34709e7fdc5ae153a768675d9fda93cc7d5133ed1fb0\n",
      "Successfully built jupyter-latex-envs jupyter-nbextensions-configurator\n",
      "Installing collected packages: jupyter-highlight-selected-word, jupyter-latex-envs, jupyter-contrib-core, jupyter-nbextensions-configurator, jupyter-contrib-nbextensions\n",
      "Successfully installed jupyter-contrib-core-0.3.3 jupyter-contrib-nbextensions-0.5.1 jupyter-highlight-selected-word-0.2.0 jupyter-latex-envs-1.4.6 jupyter-nbextensions-configurator-0.4.1\n"
     ]
    }
   ],
   "source": [
    "! pip install jupyter_contrib_nbextensions"
   ]
  },
  {
   "cell_type": "code",
   "execution_count": 3,
   "metadata": {},
   "outputs": [
    {
     "name": "stderr",
     "output_type": "stream",
     "text": [
      "Enabling notebook extension jupyter-js-widgets/extension...\n",
      "      - Validating: ok\n"
     ]
    }
   ],
   "source": [
    "! jupyter nbextension enable --py widgetsnbextension"
   ]
  },
  {
   "cell_type": "code",
   "execution_count": 4,
   "metadata": {},
   "outputs": [
    {
     "name": "stdout",
     "output_type": "stream",
     "text": [
      "Collecting nodejs\n",
      "  Downloading https://files.pythonhosted.org/packages/eb/ee/97ee0b973d072702eb2927c0eb90647cc0e4598663ed8e591c1ca4120dd9/nodejs-0.1.1.tar.gz\n",
      "Collecting optional-django==0.1.0 (from nodejs)\n",
      "  Downloading https://files.pythonhosted.org/packages/da/9e/b9b6a3854c613da94d695a2a52ca70ad1f0c65337c1b6e37f5f447964d19/optional-django-0.1.0.tar.gz\n",
      "Building wheels for collected packages: nodejs, optional-django\n",
      "  Building wheel for nodejs (setup.py): started\n",
      "  Building wheel for nodejs (setup.py): finished with status 'done'\n",
      "  Stored in directory: C:\\Users\\shrey\\AppData\\Local\\pip\\Cache\\wheels\\08\\dd\\8a\\460c064dd7665365011f49f5431df98d59970d3b8a1599436b\n",
      "  Building wheel for optional-django (setup.py): started\n",
      "  Building wheel for optional-django (setup.py): finished with status 'done'\n",
      "  Stored in directory: C:\\Users\\shrey\\AppData\\Local\\pip\\Cache\\wheels\\b9\\0f\\04\\efd2745af85731eae4a16fd4c33a95d3ba243b5ad9ab43a5c7\n",
      "Successfully built nodejs optional-django\n",
      "Installing collected packages: optional-django, nodejs\n",
      "Successfully installed nodejs-0.1.1 optional-django-0.1.0\n"
     ]
    }
   ],
   "source": [
    "! pip install nodejs"
   ]
  },
  {
   "cell_type": "code",
   "execution_count": 5,
   "metadata": {},
   "outputs": [
    {
     "name": "stderr",
     "output_type": "stream",
     "text": [
      "\n",
      "Errored, use --debug for full output:\n",
      "ValueError: Please install nodejs 5+ and npm before continuing installation. nodejs may be installed using conda or directly from the nodejs website.\n"
     ]
    }
   ],
   "source": [
    "! jupyter labextension install @jupyter-widgets/jupyterlab-manager\n"
   ]
  },
  {
   "cell_type": "code",
   "execution_count": 6,
   "metadata": {},
   "outputs": [
    {
     "name": "stderr",
     "output_type": "stream",
     "text": [
      "Enabling notebook extension jupyter-js-widgets/extension...\n",
      "      - Validating: ok\n"
     ]
    }
   ],
   "source": [
    "! jupyter nbextension enable --py widgetsnbextension"
   ]
  },
  {
   "cell_type": "code",
   "execution_count": 7,
   "metadata": {},
   "outputs": [],
   "source": [
    "\n",
    "from __future__ import print_function\n",
    "from ipywidgets import interact, interactive, fixed, interact_manual\n",
    "import ipywidgets as widgets"
   ]
  },
  {
   "cell_type": "code",
   "execution_count": 8,
   "metadata": {},
   "outputs": [],
   "source": [
    "def f(x):\n",
    "    return x"
   ]
  },
  {
   "cell_type": "code",
   "execution_count": 9,
   "metadata": {},
   "outputs": [
    {
     "data": {
      "text/plain": [
       "10"
      ]
     },
     "metadata": {},
     "output_type": "display_data"
    }
   ],
   "source": [
    "interact(f, x=10);"
   ]
  },
  {
   "cell_type": "code",
   "execution_count": 10,
   "metadata": {},
   "outputs": [
    {
     "data": {
      "text/plain": [
       "(True, 1.0)"
      ]
     },
     "metadata": {},
     "output_type": "display_data"
    }
   ],
   "source": [
    "@interact(x=True, y=1.0)\n",
    "def g(x, y):\n",
    "    return (x, y)"
   ]
  },
  {
   "cell_type": "code",
   "execution_count": 11,
   "metadata": {},
   "outputs": [
    {
     "data": {
      "application/vnd.jupyter.widget-view+json": {
       "model_id": "0d2e4ad6894a4f5aa6dce0eada79ebc2",
       "version_major": 2,
       "version_minor": 0
      },
      "text/plain": [
       "IntSlider(value=0)"
      ]
     },
     "metadata": {},
     "output_type": "display_data"
    }
   ],
   "source": [
    "widgets.IntSlider()"
   ]
  },
  {
   "cell_type": "code",
   "execution_count": 17,
   "metadata": {},
   "outputs": [
    {
     "name": "stderr",
     "output_type": "stream",
     "text": [
      "\n",
      "Errored, use --debug for full output:\n",
      "ValueError: Please install nodejs 5+ and npm before continuing installation. nodejs may be installed using conda or directly from the nodejs website.\n"
     ]
    }
   ],
   "source": [
    "! jupyter labextension install @jupyter-widgets/jupyterlab-manager"
   ]
  },
  {
   "cell_type": "code",
   "execution_count": 16,
   "metadata": {},
   "outputs": [
    {
     "name": "stdout",
     "output_type": "stream",
     "text": [
      "Requirement already satisfied: cufflinks in c:\\users\\shrey\\anaconda3\\lib\\site-packages (0.15)\n",
      "Requirement already satisfied: numpy>=1.9.2 in c:\\users\\shrey\\anaconda3\\lib\\site-packages (from cufflinks) (1.16.2)\n",
      "Requirement already satisfied: ipython>=5.3.0 in c:\\users\\shrey\\anaconda3\\lib\\site-packages (from cufflinks) (7.4.0)\n",
      "Requirement already satisfied: pandas>=0.19.2 in c:\\users\\shrey\\anaconda3\\lib\\site-packages (from cufflinks) (0.24.2)\n",
      "Requirement already satisfied: six>=1.9.0 in c:\\users\\shrey\\anaconda3\\lib\\site-packages (from cufflinks) (1.12.0)\n",
      "Requirement already satisfied: plotly>=3.0.0 in c:\\users\\shrey\\anaconda3\\lib\\site-packages (from cufflinks) (3.10.0)\n",
      "Requirement already satisfied: ipywidgets>=7.0.0 in c:\\users\\shrey\\anaconda3\\lib\\site-packages (from cufflinks) (7.4.2)\n",
      "Requirement already satisfied: setuptools>=34.4.1 in c:\\users\\shrey\\anaconda3\\lib\\site-packages (from cufflinks) (40.8.0)\n",
      "Requirement already satisfied: colorlover>=0.2.1 in c:\\users\\shrey\\anaconda3\\lib\\site-packages (from cufflinks) (0.3.0)\n",
      "Requirement already satisfied: jedi>=0.10 in c:\\users\\shrey\\anaconda3\\lib\\site-packages (from ipython>=5.3.0->cufflinks) (0.13.3)\n",
      "Requirement already satisfied: pygments in c:\\users\\shrey\\anaconda3\\lib\\site-packages (from ipython>=5.3.0->cufflinks) (2.3.1)\n",
      "Requirement already satisfied: backcall in c:\\users\\shrey\\anaconda3\\lib\\site-packages (from ipython>=5.3.0->cufflinks) (0.1.0)\n",
      "Requirement already satisfied: pickleshare in c:\\users\\shrey\\anaconda3\\lib\\site-packages (from ipython>=5.3.0->cufflinks) (0.7.5)\n",
      "Requirement already satisfied: colorama; sys_platform == \"win32\" in c:\\users\\shrey\\anaconda3\\lib\\site-packages (from ipython>=5.3.0->cufflinks) (0.4.1)\n",
      "Requirement already satisfied: traitlets>=4.2 in c:\\users\\shrey\\anaconda3\\lib\\site-packages (from ipython>=5.3.0->cufflinks) (4.3.2)\n",
      "Requirement already satisfied: decorator in c:\\users\\shrey\\anaconda3\\lib\\site-packages (from ipython>=5.3.0->cufflinks) (4.4.0)\n",
      "Requirement already satisfied: prompt-toolkit<2.1.0,>=2.0.0 in c:\\users\\shrey\\anaconda3\\lib\\site-packages (from ipython>=5.3.0->cufflinks) (2.0.9)\n",
      "Requirement already satisfied: pytz>=2011k in c:\\users\\shrey\\anaconda3\\lib\\site-packages (from pandas>=0.19.2->cufflinks) (2018.9)\n",
      "Requirement already satisfied: python-dateutil>=2.5.0 in c:\\users\\shrey\\anaconda3\\lib\\site-packages (from pandas>=0.19.2->cufflinks) (2.8.0)\n",
      "Requirement already satisfied: requests in c:\\users\\shrey\\anaconda3\\lib\\site-packages (from plotly>=3.0.0->cufflinks) (2.21.0)\n",
      "Requirement already satisfied: nbformat>=4.2 in c:\\users\\shrey\\anaconda3\\lib\\site-packages (from plotly>=3.0.0->cufflinks) (4.4.0)\n",
      "Requirement already satisfied: retrying>=1.3.3 in c:\\users\\shrey\\anaconda3\\lib\\site-packages (from plotly>=3.0.0->cufflinks) (1.3.3)\n",
      "Requirement already satisfied: ipykernel>=4.5.1 in c:\\users\\shrey\\anaconda3\\lib\\site-packages (from ipywidgets>=7.0.0->cufflinks) (5.1.0)\n",
      "Requirement already satisfied: widgetsnbextension~=3.4.0 in c:\\users\\shrey\\anaconda3\\lib\\site-packages (from ipywidgets>=7.0.0->cufflinks) (3.4.2)\n",
      "Requirement already satisfied: parso>=0.3.0 in c:\\users\\shrey\\anaconda3\\lib\\site-packages (from jedi>=0.10->ipython>=5.3.0->cufflinks) (0.3.4)\n",
      "Requirement already satisfied: ipython-genutils in c:\\users\\shrey\\anaconda3\\lib\\site-packages (from traitlets>=4.2->ipython>=5.3.0->cufflinks) (0.2.0)\n",
      "Requirement already satisfied: wcwidth in c:\\users\\shrey\\anaconda3\\lib\\site-packages (from prompt-toolkit<2.1.0,>=2.0.0->ipython>=5.3.0->cufflinks) (0.1.7)\n",
      "Requirement already satisfied: urllib3<1.25,>=1.21.1 in c:\\users\\shrey\\anaconda3\\lib\\site-packages (from requests->plotly>=3.0.0->cufflinks) (1.24.1)\n",
      "Requirement already satisfied: chardet<3.1.0,>=3.0.2 in c:\\users\\shrey\\anaconda3\\lib\\site-packages (from requests->plotly>=3.0.0->cufflinks) (3.0.4)\n",
      "Requirement already satisfied: certifi>=2017.4.17 in c:\\users\\shrey\\anaconda3\\lib\\site-packages (from requests->plotly>=3.0.0->cufflinks) (2019.3.9)\n",
      "Requirement already satisfied: idna<2.9,>=2.5 in c:\\users\\shrey\\anaconda3\\lib\\site-packages (from requests->plotly>=3.0.0->cufflinks) (2.8)\n",
      "Requirement already satisfied: jupyter-core in c:\\users\\shrey\\anaconda3\\lib\\site-packages (from nbformat>=4.2->plotly>=3.0.0->cufflinks) (4.4.0)\n",
      "Requirement already satisfied: jsonschema!=2.5.0,>=2.4 in c:\\users\\shrey\\anaconda3\\lib\\site-packages (from nbformat>=4.2->plotly>=3.0.0->cufflinks) (3.0.1)\n",
      "Requirement already satisfied: jupyter-client in c:\\users\\shrey\\anaconda3\\lib\\site-packages (from ipykernel>=4.5.1->ipywidgets>=7.0.0->cufflinks) (5.2.4)\n",
      "Requirement already satisfied: tornado>=4.2 in c:\\users\\shrey\\anaconda3\\lib\\site-packages (from ipykernel>=4.5.1->ipywidgets>=7.0.0->cufflinks) (6.0.2)\n",
      "Requirement already satisfied: notebook>=4.4.1 in c:\\users\\shrey\\anaconda3\\lib\\site-packages (from widgetsnbextension~=3.4.0->ipywidgets>=7.0.0->cufflinks) (5.7.8)\n",
      "Requirement already satisfied: attrs>=17.4.0 in c:\\users\\shrey\\anaconda3\\lib\\site-packages (from jsonschema!=2.5.0,>=2.4->nbformat>=4.2->plotly>=3.0.0->cufflinks) (19.1.0)\n",
      "Requirement already satisfied: pyrsistent>=0.14.0 in c:\\users\\shrey\\anaconda3\\lib\\site-packages (from jsonschema!=2.5.0,>=2.4->nbformat>=4.2->plotly>=3.0.0->cufflinks) (0.14.11)\n",
      "Requirement already satisfied: pyzmq>=13 in c:\\users\\shrey\\anaconda3\\lib\\site-packages (from jupyter-client->ipykernel>=4.5.1->ipywidgets>=7.0.0->cufflinks) (18.0.0)\n",
      "Requirement already satisfied: Send2Trash in c:\\users\\shrey\\anaconda3\\lib\\site-packages (from notebook>=4.4.1->widgetsnbextension~=3.4.0->ipywidgets>=7.0.0->cufflinks) (1.5.0)\n",
      "Requirement already satisfied: nbconvert in c:\\users\\shrey\\anaconda3\\lib\\site-packages (from notebook>=4.4.1->widgetsnbextension~=3.4.0->ipywidgets>=7.0.0->cufflinks) (5.4.1)\n",
      "Requirement already satisfied: prometheus-client in c:\\users\\shrey\\anaconda3\\lib\\site-packages (from notebook>=4.4.1->widgetsnbextension~=3.4.0->ipywidgets>=7.0.0->cufflinks) (0.6.0)\n",
      "Requirement already satisfied: jinja2 in c:\\users\\shrey\\anaconda3\\lib\\site-packages (from notebook>=4.4.1->widgetsnbextension~=3.4.0->ipywidgets>=7.0.0->cufflinks) (2.10)\n",
      "Requirement already satisfied: terminado>=0.8.1 in c:\\users\\shrey\\anaconda3\\lib\\site-packages (from notebook>=4.4.1->widgetsnbextension~=3.4.0->ipywidgets>=7.0.0->cufflinks) (0.8.1)\n",
      "Requirement already satisfied: mistune>=0.8.1 in c:\\users\\shrey\\anaconda3\\lib\\site-packages (from nbconvert->notebook>=4.4.1->widgetsnbextension~=3.4.0->ipywidgets>=7.0.0->cufflinks) (0.8.4)\n",
      "Requirement already satisfied: entrypoints>=0.2.2 in c:\\users\\shrey\\anaconda3\\lib\\site-packages (from nbconvert->notebook>=4.4.1->widgetsnbextension~=3.4.0->ipywidgets>=7.0.0->cufflinks) (0.3)\n",
      "Requirement already satisfied: bleach in c:\\users\\shrey\\anaconda3\\lib\\site-packages (from nbconvert->notebook>=4.4.1->widgetsnbextension~=3.4.0->ipywidgets>=7.0.0->cufflinks) (3.1.0)\n",
      "Requirement already satisfied: pandocfilters>=1.4.1 in c:\\users\\shrey\\anaconda3\\lib\\site-packages (from nbconvert->notebook>=4.4.1->widgetsnbextension~=3.4.0->ipywidgets>=7.0.0->cufflinks) (1.4.2)\n",
      "Requirement already satisfied: testpath in c:\\users\\shrey\\anaconda3\\lib\\site-packages (from nbconvert->notebook>=4.4.1->widgetsnbextension~=3.4.0->ipywidgets>=7.0.0->cufflinks) (0.4.2)\n",
      "Requirement already satisfied: defusedxml in c:\\users\\shrey\\anaconda3\\lib\\site-packages (from nbconvert->notebook>=4.4.1->widgetsnbextension~=3.4.0->ipywidgets>=7.0.0->cufflinks) (0.5.0)\n",
      "Requirement already satisfied: MarkupSafe>=0.23 in c:\\users\\shrey\\anaconda3\\lib\\site-packages (from jinja2->notebook>=4.4.1->widgetsnbextension~=3.4.0->ipywidgets>=7.0.0->cufflinks) (1.1.1)\n",
      "Requirement already satisfied: webencodings in c:\\users\\shrey\\anaconda3\\lib\\site-packages (from bleach->nbconvert->notebook>=4.4.1->widgetsnbextension~=3.4.0->ipywidgets>=7.0.0->cufflinks) (0.5.1)\n"
     ]
    }
   ],
   "source": [
    "! pip install cufflinks"
   ]
  },
  {
   "cell_type": "code",
   "execution_count": 15,
   "metadata": {},
   "outputs": [
    {
     "name": "stderr",
     "output_type": "stream",
     "text": [
      "'package.json' is not recognized as an internal or external command,\n",
      "operable program or batch file.\n"
     ]
    }
   ],
   "source": [
    "! package.json\n"
   ]
  },
  {
   "cell_type": "code",
   "execution_count": 14,
   "metadata": {},
   "outputs": [
    {
     "name": "stderr",
     "output_type": "stream",
     "text": [
      "[LabBuildApp] JupyterLab 0.35.4\n",
      "[LabBuildApp] Cleaning C:\\Users\\shrey\\Anaconda3\\share\\jupyter\\lab\n",
      "Cleaning C:\\Users\\shrey\\Anaconda3\\share\\jupyter\\lab...\n",
      "Success!\n",
      "[LabBuildApp] Building in C:\\Users\\shrey\\Anaconda3\\share\\jupyter\\lab\n",
      "Traceback (most recent call last):\n",
      "  File \"C:\\Users\\shrey\\Anaconda3\\Scripts\\jupyter-lab-script.py\", line 10, in <module>\n",
      "    sys.exit(main())\n",
      "  File \"C:\\Users\\shrey\\Anaconda3\\lib\\site-packages\\jupyter_core\\application.py\", line 266, in launch_instance\n",
      "    return super(JupyterApp, cls).launch_instance(argv=argv, **kwargs)\n",
      "  File \"C:\\Users\\shrey\\Anaconda3\\lib\\site-packages\\traitlets\\config\\application.py\", line 658, in launch_instance\n",
      "    app.start()\n",
      "  File \"C:\\Users\\shrey\\Anaconda3\\lib\\site-packages\\notebook\\notebookapp.py\", line 1760, in start\n",
      "    super(NotebookApp, self).start()\n",
      "  File \"C:\\Users\\shrey\\Anaconda3\\lib\\site-packages\\jupyter_core\\application.py\", line 255, in start\n",
      "    self.subapp.start()\n",
      "  File \"C:\\Users\\shrey\\Anaconda3\\lib\\site-packages\\jupyterlab\\labapp.py\", line 78, in start\n",
      "    command=command, logger=self.log)\n",
      "  File \"C:\\Users\\shrey\\Anaconda3\\lib\\site-packages\\jupyterlab\\commands.py\", line 271, in build\n",
      "    _node_check(logger)\n",
      "  File \"C:\\Users\\shrey\\Anaconda3\\lib\\site-packages\\jupyterlab\\commands.py\", line 1481, in _node_check\n",
      "    node = which('node')\n",
      "  File \"C:\\Users\\shrey\\Anaconda3\\lib\\site-packages\\jupyterlab_server\\process.py\", line 59, in which\n",
      "    raise ValueError(msg)\n",
      "ValueError: Please install nodejs 5+ and npm before continuing installation. nodejs may be installed using conda or directly from the nodejs website.\n"
     ]
    }
   ],
   "source": [
    "! jupyter lab build"
   ]
  },
  {
   "cell_type": "code",
   "execution_count": 13,
   "metadata": {},
   "outputs": [
    {
     "name": "stdout",
     "output_type": "stream",
     "text": [
      "Collecting cufflinks\n",
      "  Downloading https://files.pythonhosted.org/packages/dd/c9/c6f3675387438929af73e1199c45a623205898bafeab5ccd713efe3b43c2/cufflinks-0.15.tar.gz (81kB)\n",
      "Requirement already satisfied, skipping upgrade: numpy>=1.9.2 in c:\\users\\shrey\\anaconda3\\lib\\site-packages (from cufflinks) (1.16.2)\n",
      "Requirement already satisfied, skipping upgrade: pandas>=0.19.2 in c:\\users\\shrey\\anaconda3\\lib\\site-packages (from cufflinks) (0.24.2)\n",
      "Collecting plotly>=3.0.0 (from cufflinks)\n",
      "  Downloading https://files.pythonhosted.org/packages/ff/75/3982bac5076d0ce6d23103c03840fcaec90c533409f9d82c19f54512a38a/plotly-3.10.0-py2.py3-none-any.whl (41.5MB)\n",
      "Requirement already satisfied, skipping upgrade: six>=1.9.0 in c:\\users\\shrey\\anaconda3\\lib\\site-packages (from cufflinks) (1.12.0)\n",
      "Collecting colorlover>=0.2.1 (from cufflinks)\n",
      "  Downloading https://files.pythonhosted.org/packages/9a/53/f696e4480b1d1de3b1523991dea71cf417c8b19fe70c704da164f3f90972/colorlover-0.3.0-py3-none-any.whl\n",
      "Requirement already satisfied, skipping upgrade: setuptools>=34.4.1 in c:\\users\\shrey\\anaconda3\\lib\\site-packages (from cufflinks) (40.8.0)\n",
      "Requirement already satisfied, skipping upgrade: ipython>=5.3.0 in c:\\users\\shrey\\anaconda3\\lib\\site-packages (from cufflinks) (7.4.0)\n",
      "Requirement already satisfied, skipping upgrade: ipywidgets>=7.0.0 in c:\\users\\shrey\\anaconda3\\lib\\site-packages (from cufflinks) (7.4.2)\n",
      "Requirement already satisfied, skipping upgrade: pytz>=2011k in c:\\users\\shrey\\anaconda3\\lib\\site-packages (from pandas>=0.19.2->cufflinks) (2018.9)\n",
      "Requirement already satisfied, skipping upgrade: python-dateutil>=2.5.0 in c:\\users\\shrey\\anaconda3\\lib\\site-packages (from pandas>=0.19.2->cufflinks) (2.8.0)\n",
      "Requirement already satisfied, skipping upgrade: requests in c:\\users\\shrey\\anaconda3\\lib\\site-packages (from plotly>=3.0.0->cufflinks) (2.21.0)\n",
      "Collecting retrying>=1.3.3 (from plotly>=3.0.0->cufflinks)\n",
      "  Downloading https://files.pythonhosted.org/packages/44/ef/beae4b4ef80902f22e3af073397f079c96969c69b2c7d52a57ea9ae61c9d/retrying-1.3.3.tar.gz\n",
      "Requirement already satisfied, skipping upgrade: decorator>=4.0.6 in c:\\users\\shrey\\anaconda3\\lib\\site-packages (from plotly>=3.0.0->cufflinks) (4.4.0)\n",
      "Requirement already satisfied, skipping upgrade: nbformat>=4.2 in c:\\users\\shrey\\anaconda3\\lib\\site-packages (from plotly>=3.0.0->cufflinks) (4.4.0)\n",
      "Requirement already satisfied, skipping upgrade: traitlets>=4.2 in c:\\users\\shrey\\anaconda3\\lib\\site-packages (from ipython>=5.3.0->cufflinks) (4.3.2)\n",
      "Requirement already satisfied, skipping upgrade: prompt-toolkit<2.1.0,>=2.0.0 in c:\\users\\shrey\\anaconda3\\lib\\site-packages (from ipython>=5.3.0->cufflinks) (2.0.9)\n",
      "Requirement already satisfied, skipping upgrade: jedi>=0.10 in c:\\users\\shrey\\anaconda3\\lib\\site-packages (from ipython>=5.3.0->cufflinks) (0.13.3)\n",
      "Requirement already satisfied, skipping upgrade: colorama; sys_platform == \"win32\" in c:\\users\\shrey\\anaconda3\\lib\\site-packages (from ipython>=5.3.0->cufflinks) (0.4.1)\n",
      "Requirement already satisfied, skipping upgrade: pickleshare in c:\\users\\shrey\\anaconda3\\lib\\site-packages (from ipython>=5.3.0->cufflinks) (0.7.5)\n",
      "Requirement already satisfied, skipping upgrade: pygments in c:\\users\\shrey\\anaconda3\\lib\\site-packages (from ipython>=5.3.0->cufflinks) (2.3.1)\n",
      "Requirement already satisfied, skipping upgrade: backcall in c:\\users\\shrey\\anaconda3\\lib\\site-packages (from ipython>=5.3.0->cufflinks) (0.1.0)\n",
      "Requirement already satisfied, skipping upgrade: ipykernel>=4.5.1 in c:\\users\\shrey\\anaconda3\\lib\\site-packages (from ipywidgets>=7.0.0->cufflinks) (5.1.0)\n",
      "Requirement already satisfied, skipping upgrade: widgetsnbextension~=3.4.0 in c:\\users\\shrey\\anaconda3\\lib\\site-packages (from ipywidgets>=7.0.0->cufflinks) (3.4.2)\n",
      "Requirement already satisfied, skipping upgrade: idna<2.9,>=2.5 in c:\\users\\shrey\\anaconda3\\lib\\site-packages (from requests->plotly>=3.0.0->cufflinks) (2.8)\n",
      "Requirement already satisfied, skipping upgrade: urllib3<1.25,>=1.21.1 in c:\\users\\shrey\\anaconda3\\lib\\site-packages (from requests->plotly>=3.0.0->cufflinks) (1.24.1)\n",
      "Requirement already satisfied, skipping upgrade: chardet<3.1.0,>=3.0.2 in c:\\users\\shrey\\anaconda3\\lib\\site-packages (from requests->plotly>=3.0.0->cufflinks) (3.0.4)\n",
      "Requirement already satisfied, skipping upgrade: certifi>=2017.4.17 in c:\\users\\shrey\\anaconda3\\lib\\site-packages (from requests->plotly>=3.0.0->cufflinks) (2019.3.9)\n",
      "Requirement already satisfied, skipping upgrade: jupyter-core in c:\\users\\shrey\\anaconda3\\lib\\site-packages (from nbformat>=4.2->plotly>=3.0.0->cufflinks) (4.4.0)\n",
      "Requirement already satisfied, skipping upgrade: jsonschema!=2.5.0,>=2.4 in c:\\users\\shrey\\anaconda3\\lib\\site-packages (from nbformat>=4.2->plotly>=3.0.0->cufflinks) (3.0.1)\n",
      "Requirement already satisfied, skipping upgrade: ipython-genutils in c:\\users\\shrey\\anaconda3\\lib\\site-packages (from nbformat>=4.2->plotly>=3.0.0->cufflinks) (0.2.0)\n",
      "Requirement already satisfied, skipping upgrade: wcwidth in c:\\users\\shrey\\anaconda3\\lib\\site-packages (from prompt-toolkit<2.1.0,>=2.0.0->ipython>=5.3.0->cufflinks) (0.1.7)\n",
      "Requirement already satisfied, skipping upgrade: parso>=0.3.0 in c:\\users\\shrey\\anaconda3\\lib\\site-packages (from jedi>=0.10->ipython>=5.3.0->cufflinks) (0.3.4)\n",
      "Requirement already satisfied, skipping upgrade: jupyter-client in c:\\users\\shrey\\anaconda3\\lib\\site-packages (from ipykernel>=4.5.1->ipywidgets>=7.0.0->cufflinks) (5.2.4)\n",
      "Requirement already satisfied, skipping upgrade: tornado>=4.2 in c:\\users\\shrey\\anaconda3\\lib\\site-packages (from ipykernel>=4.5.1->ipywidgets>=7.0.0->cufflinks) (6.0.2)\n",
      "Requirement already satisfied, skipping upgrade: notebook>=4.4.1 in c:\\users\\shrey\\anaconda3\\lib\\site-packages (from widgetsnbextension~=3.4.0->ipywidgets>=7.0.0->cufflinks) (5.7.8)\n",
      "Requirement already satisfied, skipping upgrade: attrs>=17.4.0 in c:\\users\\shrey\\anaconda3\\lib\\site-packages (from jsonschema!=2.5.0,>=2.4->nbformat>=4.2->plotly>=3.0.0->cufflinks) (19.1.0)\n",
      "Requirement already satisfied, skipping upgrade: pyrsistent>=0.14.0 in c:\\users\\shrey\\anaconda3\\lib\\site-packages (from jsonschema!=2.5.0,>=2.4->nbformat>=4.2->plotly>=3.0.0->cufflinks) (0.14.11)\n",
      "Requirement already satisfied, skipping upgrade: pyzmq>=13 in c:\\users\\shrey\\anaconda3\\lib\\site-packages (from jupyter-client->ipykernel>=4.5.1->ipywidgets>=7.0.0->cufflinks) (18.0.0)\n",
      "Requirement already satisfied, skipping upgrade: jinja2 in c:\\users\\shrey\\anaconda3\\lib\\site-packages (from notebook>=4.4.1->widgetsnbextension~=3.4.0->ipywidgets>=7.0.0->cufflinks) (2.10)\n",
      "Requirement already satisfied, skipping upgrade: nbconvert in c:\\users\\shrey\\anaconda3\\lib\\site-packages (from notebook>=4.4.1->widgetsnbextension~=3.4.0->ipywidgets>=7.0.0->cufflinks) (5.4.1)\n",
      "Requirement already satisfied, skipping upgrade: Send2Trash in c:\\users\\shrey\\anaconda3\\lib\\site-packages (from notebook>=4.4.1->widgetsnbextension~=3.4.0->ipywidgets>=7.0.0->cufflinks) (1.5.0)\n",
      "Requirement already satisfied, skipping upgrade: terminado>=0.8.1 in c:\\users\\shrey\\anaconda3\\lib\\site-packages (from notebook>=4.4.1->widgetsnbextension~=3.4.0->ipywidgets>=7.0.0->cufflinks) (0.8.1)\n",
      "Requirement already satisfied, skipping upgrade: prometheus-client in c:\\users\\shrey\\anaconda3\\lib\\site-packages (from notebook>=4.4.1->widgetsnbextension~=3.4.0->ipywidgets>=7.0.0->cufflinks) (0.6.0)\n",
      "Requirement already satisfied, skipping upgrade: MarkupSafe>=0.23 in c:\\users\\shrey\\anaconda3\\lib\\site-packages (from jinja2->notebook>=4.4.1->widgetsnbextension~=3.4.0->ipywidgets>=7.0.0->cufflinks) (1.1.1)\n",
      "Requirement already satisfied, skipping upgrade: mistune>=0.8.1 in c:\\users\\shrey\\anaconda3\\lib\\site-packages (from nbconvert->notebook>=4.4.1->widgetsnbextension~=3.4.0->ipywidgets>=7.0.0->cufflinks) (0.8.4)\n",
      "Requirement already satisfied, skipping upgrade: entrypoints>=0.2.2 in c:\\users\\shrey\\anaconda3\\lib\\site-packages (from nbconvert->notebook>=4.4.1->widgetsnbextension~=3.4.0->ipywidgets>=7.0.0->cufflinks) (0.3)\n",
      "Requirement already satisfied, skipping upgrade: bleach in c:\\users\\shrey\\anaconda3\\lib\\site-packages (from nbconvert->notebook>=4.4.1->widgetsnbextension~=3.4.0->ipywidgets>=7.0.0->cufflinks) (3.1.0)\n",
      "Requirement already satisfied, skipping upgrade: pandocfilters>=1.4.1 in c:\\users\\shrey\\anaconda3\\lib\\site-packages (from nbconvert->notebook>=4.4.1->widgetsnbextension~=3.4.0->ipywidgets>=7.0.0->cufflinks) (1.4.2)\n",
      "Requirement already satisfied, skipping upgrade: testpath in c:\\users\\shrey\\anaconda3\\lib\\site-packages (from nbconvert->notebook>=4.4.1->widgetsnbextension~=3.4.0->ipywidgets>=7.0.0->cufflinks) (0.4.2)\n",
      "Requirement already satisfied, skipping upgrade: defusedxml in c:\\users\\shrey\\anaconda3\\lib\\site-packages (from nbconvert->notebook>=4.4.1->widgetsnbextension~=3.4.0->ipywidgets>=7.0.0->cufflinks) (0.5.0)\n",
      "Requirement already satisfied, skipping upgrade: webencodings in c:\\users\\shrey\\anaconda3\\lib\\site-packages (from bleach->nbconvert->notebook>=4.4.1->widgetsnbextension~=3.4.0->ipywidgets>=7.0.0->cufflinks) (0.5.1)\n",
      "Building wheels for collected packages: cufflinks, retrying\n",
      "  Building wheel for cufflinks (setup.py): started\n",
      "  Building wheel for cufflinks (setup.py): finished with status 'done'\n",
      "  Stored in directory: C:\\Users\\shrey\\AppData\\Local\\pip\\Cache\\wheels\\c7\\7f\\d3\\7d3146a1551614bf0b8eb631ac724d044dd341679e763b594b\n",
      "  Building wheel for retrying (setup.py): started\n",
      "  Building wheel for retrying (setup.py): finished with status 'done'\n",
      "  Stored in directory: C:\\Users\\shrey\\AppData\\Local\\pip\\Cache\\wheels\\d7\\a9\\33\\acc7b709e2a35caa7d4cae442f6fe6fbf2c43f80823d46460c\n",
      "Successfully built cufflinks retrying\n",
      "Installing collected packages: retrying, plotly, colorlover, cufflinks\n",
      "Successfully installed colorlover-0.3.0 cufflinks-0.15 plotly-3.10.0 retrying-1.3.3\n"
     ]
    }
   ],
   "source": [
    "! pip install cufflinks --upgrade"
   ]
  },
  {
   "cell_type": "code",
   "execution_count": 3,
   "metadata": {},
   "outputs": [],
   "source": [
    "from __future__ import print_function\n",
    "from ipywidgets import interact, interactive, fixed, interact_manual\n",
    "import ipywidgets as widgets"
   ]
  },
  {
   "cell_type": "code",
   "execution_count": 4,
   "metadata": {},
   "outputs": [
    {
     "name": "stdout",
     "output_type": "stream",
     "text": [
      "0.15\n"
     ]
    }
   ],
   "source": [
    "import plotly.plotly as py\n",
    "import cufflinks as cf\n",
    "import pandas as pd\n",
    "import numpy as np\n",
    "print (cf.__version__)"
   ]
  },
  {
   "cell_type": "code",
   "execution_count": 5,
   "metadata": {},
   "outputs": [],
   "source": [
    "import plotly \n",
    "plotly.tools.set_credentials_file(username='shreya21june', api_key='idUHkqGHEYIzNBBXk0N8')"
   ]
  },
  {
   "cell_type": "code",
   "execution_count": 6,
   "metadata": {},
   "outputs": [
    {
     "data": {
      "text/plain": [
       "10"
      ]
     },
     "metadata": {},
     "output_type": "display_data"
    }
   ],
   "source": [
    "def f(x):\n",
    "    return x\n",
    "interact(f, x=10);"
   ]
  },
  {
   "cell_type": "code",
   "execution_count": 5,
   "metadata": {},
   "outputs": [
    {
     "data": {
      "application/vnd.jupyter.widget-view+json": {
       "model_id": "fced09ae2a424e33b47d088552e7b093",
       "version_major": 2,
       "version_minor": 0
      },
      "text/plain": [
       "interactive(children=(Checkbox(value=True, description='x'), FloatSlider(value=1.0, description='y', max=3.0, …"
      ]
     },
     "metadata": {},
     "output_type": "display_data"
    }
   ],
   "source": [
    "@interact(x=True, y=1.0)\n",
    "def g(x, y):\n",
    "    return (x, y)"
   ]
  },
  {
   "cell_type": "code",
   "execution_count": 6,
   "metadata": {},
   "outputs": [
    {
     "data": {
      "application/vnd.jupyter.widget-view+json": {
       "model_id": "546f413a0fa149b7b2ad7c12c1d26955",
       "version_major": 2,
       "version_minor": 0
      },
      "text/plain": [
       "IntSlider(value=0)"
      ]
     },
     "metadata": {},
     "output_type": "display_data"
    }
   ],
   "source": [
    "widgets.IntSlider()"
   ]
  },
  {
   "cell_type": "code",
   "execution_count": 7,
   "metadata": {},
   "outputs": [
    {
     "data": {
      "text/html": [
       "<iframe id=\"igraph\" scrolling=\"no\" style=\"border:none;\" seamless=\"seamless\" src=\"https://plot.ly/~cufflinks/8.embed\" height=\"525\" width=\"100%\"></iframe>"
      ],
      "text/plain": [
       "<chart_studio.tools.PlotlyDisplay object>"
      ]
     },
     "execution_count": 7,
     "metadata": {},
     "output_type": "execute_result"
    }
   ],
   "source": [
    "import plotly.tools as tls\n",
    "tls.embed('https://plot.ly/~cufflinks/8')"
   ]
  },
  {
   "cell_type": "code",
   "execution_count": 25,
   "metadata": {},
   "outputs": [],
   "source": [
    "#By default, plotly graphs are public. Make them private by setting world_readable to False\n",
    "#plotly.tools.set_config_file(world_readable=False,\n",
    "                             #sharing='private')"
   ]
  },
  {
   "cell_type": "code",
   "execution_count": null,
   "metadata": {},
   "outputs": [],
   "source": [
    "df = cf.datagen.lines()\n",
    "\n",
    "py.iplot([{\n",
    "    'x': df.index,\n",
    "    'y': df[col],\n",
    "    'name': col\n",
    "}  for col in df.columns], filename='')"
   ]
  },
  {
   "cell_type": "code",
   "execution_count": 9,
   "metadata": {},
   "outputs": [
    {
     "ename": "AttributeError",
     "evalue": "module 'chart_studio.tools' has no attribute 'make_subplots'",
     "output_type": "error",
     "traceback": [
      "\u001b[1;31m---------------------------------------------------------------------------\u001b[0m",
      "\u001b[1;31mAttributeError\u001b[0m                            Traceback (most recent call last)",
      "\u001b[1;32m<ipython-input-9-7c9c9ef67d4c>\u001b[0m in \u001b[0;36m<module>\u001b[1;34m()\u001b[0m\n\u001b[0;32m      1\u001b[0m \u001b[0mdf\u001b[0m \u001b[1;33m=\u001b[0m \u001b[0mpd\u001b[0m\u001b[1;33m.\u001b[0m\u001b[0mDataFrame\u001b[0m\u001b[1;33m(\u001b[0m\u001b[0mnp\u001b[0m\u001b[1;33m.\u001b[0m\u001b[0mrandom\u001b[0m\u001b[1;33m.\u001b[0m\u001b[0mrandn\u001b[0m\u001b[1;33m(\u001b[0m\u001b[1;36m1000\u001b[0m\u001b[1;33m,\u001b[0m \u001b[1;36m4\u001b[0m\u001b[1;33m)\u001b[0m\u001b[1;33m,\u001b[0m \u001b[0mcolumns\u001b[0m\u001b[1;33m=\u001b[0m\u001b[1;33m[\u001b[0m\u001b[1;34m'a'\u001b[0m\u001b[1;33m,\u001b[0m \u001b[1;34m'b'\u001b[0m\u001b[1;33m,\u001b[0m \u001b[1;34m'c'\u001b[0m\u001b[1;33m,\u001b[0m \u001b[1;34m'd'\u001b[0m\u001b[1;33m]\u001b[0m\u001b[1;33m)\u001b[0m\u001b[1;33m\u001b[0m\u001b[0m\n\u001b[1;32m----> 2\u001b[1;33m \u001b[0mdf\u001b[0m\u001b[1;33m.\u001b[0m\u001b[0mscatter_matrix\u001b[0m\u001b[1;33m(\u001b[0m\u001b[0mfilename\u001b[0m\u001b[1;33m=\u001b[0m\u001b[1;34m'cufflinks/scatter-matrix'\u001b[0m\u001b[1;33m,\u001b[0m \u001b[0mworld_readable\u001b[0m\u001b[1;33m=\u001b[0m\u001b[1;32mTrue\u001b[0m\u001b[1;33m)\u001b[0m\u001b[1;33m\u001b[0m\u001b[0m\n\u001b[0m",
      "\u001b[1;32m~\\Anaconda3\\lib\\site-packages\\cufflinks\\plotlytools.py\u001b[0m in \u001b[0;36m_scatter_matrix\u001b[1;34m(self, theme, bins, color, size, asFigure, **iplot_kwargs)\u001b[0m\n\u001b[0;32m   1277\u001b[0m                         \u001b[0mKeyword\u001b[0m \u001b[0marguments\u001b[0m \u001b[0mto\u001b[0m \u001b[1;32mpass\u001b[0m \u001b[0mthrough\u001b[0m \u001b[0mto\u001b[0m\u001b[0;31m \u001b[0m\u001b[0;31m`\u001b[0m\u001b[0miplot\u001b[0m\u001b[0;31m`\u001b[0m\u001b[1;33m\u001b[0m\u001b[0m\n\u001b[0;32m   1278\u001b[0m \t\"\"\"\n\u001b[1;32m-> 1279\u001b[1;33m         \u001b[0msm\u001b[0m\u001b[1;33m=\u001b[0m\u001b[0mtools\u001b[0m\u001b[1;33m.\u001b[0m\u001b[0mscatter_matrix\u001b[0m\u001b[1;33m(\u001b[0m\u001b[0mself\u001b[0m\u001b[1;33m,\u001b[0m\u001b[0mtheme\u001b[0m\u001b[1;33m=\u001b[0m\u001b[0mtheme\u001b[0m\u001b[1;33m,\u001b[0m\u001b[0mbins\u001b[0m\u001b[1;33m=\u001b[0m\u001b[0mbins\u001b[0m\u001b[1;33m,\u001b[0m\u001b[0mcolor\u001b[0m\u001b[1;33m=\u001b[0m\u001b[0mcolor\u001b[0m\u001b[1;33m,\u001b[0m\u001b[0msize\u001b[0m\u001b[1;33m=\u001b[0m\u001b[0msize\u001b[0m\u001b[1;33m)\u001b[0m\u001b[1;33m\u001b[0m\u001b[0m\n\u001b[0m\u001b[0;32m   1280\u001b[0m         \u001b[1;32mif\u001b[0m \u001b[0masFigure\u001b[0m\u001b[1;33m:\u001b[0m\u001b[1;33m\u001b[0m\u001b[0m\n\u001b[0;32m   1281\u001b[0m                 \u001b[1;32mreturn\u001b[0m \u001b[0msm\u001b[0m\u001b[1;33m\u001b[0m\u001b[0m\n",
      "\u001b[1;32m~\\Anaconda3\\lib\\site-packages\\cufflinks\\tools.py\u001b[0m in \u001b[0;36mscatter_matrix\u001b[1;34m(df, theme, bins, color, size)\u001b[0m\n\u001b[0;32m   1017\u001b[0m         \u001b[0mlayout\u001b[0m\u001b[1;33m[\u001b[0m\u001b[1;34m'yaxis'\u001b[0m\u001b[1;33m]\u001b[0m\u001b[1;33m.\u001b[0m\u001b[0mupdate\u001b[0m\u001b[1;33m(\u001b[0m\u001b[0mshowgrid\u001b[0m\u001b[1;33m=\u001b[0m\u001b[1;32mFalse\u001b[0m\u001b[1;33m)\u001b[0m\u001b[1;33m\u001b[0m\u001b[0m\n\u001b[0;32m   1018\u001b[0m \tsm=subplots(figs,shape=(len(df.columns),len(df.columns)),shared_xaxes=False,shared_yaxes=False,\n\u001b[1;32m-> 1019\u001b[1;33m \t\t\t\t\t  horizontal_spacing=.05,vertical_spacing=.07,base_layout=layout)\n\u001b[0m\u001b[0;32m   1020\u001b[0m         \u001b[0msm\u001b[0m\u001b[1;33m[\u001b[0m\u001b[1;34m'layout'\u001b[0m\u001b[1;33m]\u001b[0m\u001b[1;33m.\u001b[0m\u001b[0mupdate\u001b[0m\u001b[1;33m(\u001b[0m\u001b[0mbargap\u001b[0m\u001b[1;33m=\u001b[0m\u001b[1;36m.02\u001b[0m\u001b[1;33m,\u001b[0m\u001b[0mshowlegend\u001b[0m\u001b[1;33m=\u001b[0m\u001b[1;32mFalse\u001b[0m\u001b[1;33m)\u001b[0m\u001b[1;33m\u001b[0m\u001b[0m\n\u001b[0;32m   1021\u001b[0m         \u001b[1;32mreturn\u001b[0m \u001b[0msm\u001b[0m\u001b[1;33m\u001b[0m\u001b[0m\n",
      "\u001b[1;32m~\\Anaconda3\\lib\\site-packages\\cufflinks\\tools.py\u001b[0m in \u001b[0;36msubplots\u001b[1;34m(figures, shape, shared_xaxes, shared_yaxes, start_cell, theme, base_layout, **kwargs)\u001b[0m\n\u001b[0;32m    763\u001b[0m                                              \u001b[0mshared_xaxes\u001b[0m\u001b[1;33m=\u001b[0m\u001b[0mshared_xaxes\u001b[0m\u001b[1;33m,\u001b[0m \u001b[0mshared_yaxes\u001b[0m\u001b[1;33m=\u001b[0m\u001b[0mshared_yaxes\u001b[0m\u001b[1;33m,\u001b[0m\u001b[1;33m\u001b[0m\u001b[0m\n\u001b[0;32m    764\u001b[0m                                              \u001b[0mstart_cell\u001b[0m\u001b[1;33m=\u001b[0m\u001b[0mstart_cell\u001b[0m\u001b[1;33m,\u001b[0m \u001b[0mtheme\u001b[0m\u001b[1;33m=\u001b[0m\u001b[0mtheme\u001b[0m\u001b[1;33m,\u001b[0m\u001b[0mbase_layout\u001b[0m\u001b[1;33m=\u001b[0m\u001b[0mbase_layout\u001b[0m\u001b[1;33m,\u001b[0m\u001b[1;33m\u001b[0m\u001b[0m\n\u001b[1;32m--> 765\u001b[1;33m \t\t\t\t             **kwargs)\n\u001b[0m\u001b[0;32m    766\u001b[0m         \u001b[0mlist_ref\u001b[0m\u001b[1;33m=\u001b[0m\u001b[1;33m(\u001b[0m\u001b[0mcol\u001b[0m \u001b[1;32mfor\u001b[0m \u001b[0mrow\u001b[0m \u001b[1;32min\u001b[0m \u001b[0mgrid_ref\u001b[0m \u001b[1;32mfor\u001b[0m \u001b[0mcol\u001b[0m \u001b[1;32min\u001b[0m \u001b[0mrow\u001b[0m\u001b[1;33m)\u001b[0m\u001b[1;33m\u001b[0m\u001b[0m\n\u001b[0;32m    767\u001b[0m         \u001b[1;32mfor\u001b[0m \u001b[0mi\u001b[0m \u001b[1;32min\u001b[0m \u001b[0mrange\u001b[0m\u001b[1;33m(\u001b[0m\u001b[0mlen\u001b[0m\u001b[1;33m(\u001b[0m\u001b[0mfigures\u001b[0m\u001b[1;33m)\u001b[0m\u001b[1;33m)\u001b[0m\u001b[1;33m:\u001b[0m\u001b[1;33m\u001b[0m\u001b[0m\n",
      "\u001b[1;32m~\\Anaconda3\\lib\\site-packages\\cufflinks\\tools.py\u001b[0m in \u001b[0;36mget_subplots\u001b[1;34m(rows, cols, shared_xaxes, shared_yaxes, start_cell, theme, base_layout, **kwargs)\u001b[0m\n\u001b[0;32m    892\u001b[0m \u001b[1;33m\u001b[0m\u001b[0m\n\u001b[0;32m    893\u001b[0m         \u001b[0mlayout\u001b[0m\u001b[1;33m=\u001b[0m \u001b[0mbase_layout\u001b[0m \u001b[1;32mif\u001b[0m \u001b[0mbase_layout\u001b[0m \u001b[1;32melse\u001b[0m \u001b[0mgetLayout\u001b[0m\u001b[1;33m(\u001b[0m\u001b[0mtheme\u001b[0m\u001b[1;33m,\u001b[0m\u001b[1;33m**\u001b[0m\u001b[0mcheck_kwargs\u001b[0m\u001b[1;33m(\u001b[0m\u001b[0mkwargs\u001b[0m\u001b[1;33m,\u001b[0m\u001b[0m__LAYOUT_AXIS\u001b[0m\u001b[1;33m)\u001b[0m\u001b[1;33m)\u001b[0m\u001b[1;33m\u001b[0m\u001b[0m\n\u001b[1;32m--> 894\u001b[1;33m \tsp=py.plotly.tools.make_subplots(rows=rows,cols=cols,shared_xaxes=shared_xaxes,\n\u001b[0m\u001b[0;32m    895\u001b[0m                                                                                    \u001b[0mshared_yaxes\u001b[0m\u001b[1;33m=\u001b[0m\u001b[0mshared_yaxes\u001b[0m\u001b[1;33m,\u001b[0m\u001b[0mprint_grid\u001b[0m\u001b[1;33m=\u001b[0m\u001b[1;32mFalse\u001b[0m\u001b[1;33m,\u001b[0m\u001b[1;33m\u001b[0m\u001b[0m\n\u001b[0;32m    896\u001b[0m \t\t\t\t\t\t\t\t\t\t\tstart_cell=start_cell,**kwargs)\n",
      "\u001b[1;31mAttributeError\u001b[0m: module 'chart_studio.tools' has no attribute 'make_subplots'"
     ]
    }
   ],
   "source": [
    "df = pd.DataFrame(np.random.randn(1000, 4), columns=['a', 'b', 'c', 'd'])\n",
    "df.scatter_matrix(filename='cufflinks/scatter-matrix', world_readable=True)"
   ]
  },
  {
   "cell_type": "code",
   "execution_count": 8,
   "metadata": {},
   "outputs": [],
   "source": [
    "cf.go_online()\n",
    "#"
   ]
  },
  {
   "cell_type": "code",
   "execution_count": 12,
   "metadata": {},
   "outputs": [
    {
     "data": {
      "text/html": [
       "<iframe id=\"igraph\" scrolling=\"no\" style=\"border:none;\" seamless=\"seamless\" src=\"https://plot.ly/~shreya21june/6.embed\" height=\"525px\" width=\"100%\"></iframe>"
      ],
      "text/plain": [
       "<chart_studio.tools.PlotlyDisplay object>"
      ]
     },
     "execution_count": 12,
     "metadata": {},
     "output_type": "execute_result"
    }
   ],
   "source": [
    "cf.set_config_file(offline=False, world_readable=True, theme='pearl')\n",
    "\n",
    "cf.datagen.heatmap(20,20).iplot(kind='heatmap',colorscale='spectral',\n",
    "                                filename='')"
   ]
  },
  {
   "cell_type": "code",
   "execution_count": null,
   "metadata": {},
   "outputs": [],
   "source": [
    "import cufflinks as cf\n",
    "import plotly.plotly as py\n",
    "import plotly.tools as tls\n",
    "tls.embed('https://plot.ly/~cufflinks/8')\n",
    "@interact\n",
    "def scatter_plot(x=list(numappdf.select_dtypes('number').columns), \n",
    "                 y=list(numappdf.select_dtypes('number').columns)[1:],\n",
    "                 theme=list(cf.themes.THEMES.keys()), \n",
    "                 colorscale=list(cf.colors._scales_names.keys())):\n",
    "    \n",
    "    numappdf.iplot(kind='scatter', x=x, y=y, mode='markers', \n",
    "             xTitle=x.title(), yTitle=y.title(), \n",
    "             #text='title',\n",
    "             title=f'{y.title()} vs {x.title()}',\n",
    "            theme=theme, colorscale=colorscale)"
   ]
  },
  {
   "cell_type": "code",
   "execution_count": null,
   "metadata": {},
   "outputs": [],
   "source": []
  },
  {
   "cell_type": "raw",
   "metadata": {},
   "source": [
    "Steps for Windows Users:\n",
    "\n",
    " \n",
    "\n",
    "Download graphviz from (https://graphviz.gitlab.io/_pages/Download/Download_windows.html)(download only ZIP file) \n",
    "Un-zip the file and copy-paste it to C:\\Program Files (x86)\\\n",
    "Make sure your file is unzipped and placed at Program Files (x86)\n",
    "Environment Variable: Add C:\\Program Files (x86)\\graphviz-2.38\\release\\bin to User path\n",
    "Environment Variable: Add C:\\Program Files (x86)\\graphviz-2.38\\release\\bin\\dot.exe to System Path\n",
    "Install python graphviz package- pip install graphviz\n",
    "Install pydotplus - pip install pydotplus \n",
    " \n",
    "\n",
    "Instructions to add the environment variable: click here\n",
    "\n",
    " \n",
    "\n",
    "# anaconda users\n",
    "conda install pydotplus\n",
    "\n",
    "# pip users\n",
    "pip install pydotplus\n",
    "\n",
    " \n",
    "\n",
    " \n",
    "\n",
    "Steps for Mac Users:\n",
    "\n",
    " \n",
    "\n",
    "To install the graphviz software on Mac, you can use homebrew:\n",
    "Install homebrew from here: https://docs.brew.sh/Installation\n",
    "Run this in the terminal\n",
    "brew install graphviz\n",
    "\n",
    "Install pydotplus, pip install pydotplus\n",
    "Install the python graphviz module, pip install graphviz\n",
    "Please use the resultant decision tree structure to answer the following questions.\n",
    "\n",
    " \n",
    "\n",
    "\n",
    " \n",
    "\n",
    " "
   ]
  },
  {
   "cell_type": "code",
   "execution_count": 1,
   "metadata": {},
   "outputs": [
    {
     "name": "stdout",
     "output_type": "stream",
     "text": [
      "Collecting graphviz\n",
      "  Downloading https://files.pythonhosted.org/packages/94/cd/7b37f2b658995033879719e1ea4c9f171bf7a14c16b79220bd19f9eda3fe/graphviz-0.13-py2.py3-none-any.whl\n",
      "Installing collected packages: graphviz\n",
      "Successfully installed graphviz-0.13\n"
     ]
    }
   ],
   "source": [
    "! pip install graphviz\n",
    "#Install pydotplus - "
   ]
  },
  {
   "cell_type": "code",
   "execution_count": 2,
   "metadata": {},
   "outputs": [
    {
     "name": "stdout",
     "output_type": "stream",
     "text": [
      "Collecting pydotplus\n",
      "  Downloading https://files.pythonhosted.org/packages/60/bf/62567830b700d9f6930e9ab6831d6ba256f7b0b730acb37278b0ccdffacf/pydotplus-2.0.2.tar.gz (278kB)\n",
      "Requirement already satisfied: pyparsing>=2.0.1 in c:\\users\\navarch\\anaconda3\\lib\\site-packages (from pydotplus) (2.2.0)\n",
      "Building wheels for collected packages: pydotplus\n",
      "  Building wheel for pydotplus (setup.py): started\n",
      "  Building wheel for pydotplus (setup.py): finished with status 'done'\n",
      "  Created wheel for pydotplus: filename=pydotplus-2.0.2-cp37-none-any.whl size=23682 sha256=e2a01e92b003d02691e9f828a96b83a8144bfc78fec52eee2cd1438d137758e6\n",
      "  Stored in directory: C:\\Users\\NAVARCH\\AppData\\Local\\pip\\Cache\\wheels\\35\\7b\\ab\\66fb7b2ac1f6df87475b09dc48e707b6e0de80a6d8444e3628\n",
      "Successfully built pydotplus\n",
      "Installing collected packages: pydotplus\n",
      "Successfully installed pydotplus-2.0.2\n"
     ]
    }
   ],
   "source": [
    "! pip install pydotplus "
   ]
  },
  {
   "cell_type": "code",
   "execution_count": null,
   "metadata": {},
   "outputs": [],
   "source": []
  },
  {
   "cell_type": "code",
   "execution_count": null,
   "metadata": {},
   "outputs": [],
   "source": []
  }
 ],
 "metadata": {
  "kernelspec": {
   "display_name": "Python 3",
   "language": "python",
   "name": "python3"
  },
  "language_info": {
   "codemirror_mode": {
    "name": "ipython",
    "version": 3
   },
   "file_extension": ".py",
   "mimetype": "text/x-python",
   "name": "python",
   "nbconvert_exporter": "python",
   "pygments_lexer": "ipython3",
   "version": "3.7.0"
  }
 },
 "nbformat": 4,
 "nbformat_minor": 2
}
