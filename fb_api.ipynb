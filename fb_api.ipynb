{
 "cells": [
  {
   "cell_type": "code",
   "execution_count": 6,
   "metadata": {},
   "outputs": [
    {
     "name": "stdout",
     "output_type": "stream",
     "text": [
      "Collecting facebook-sdk\n",
      "  Downloading https://files.pythonhosted.org/packages/79/d7/4cb0f5930f79205cc45db22e17fa716396d813c3d6b8d5de77783a5fa59a/facebook_sdk-3.1.0-py2.py3-none-any.whl\n",
      "Requirement already satisfied: requests in c:\\users\\navarch\\anaconda3\\lib\\site-packages (from facebook-sdk) (2.19.1)\n",
      "Requirement already satisfied: certifi>=2017.4.17 in c:\\users\\navarch\\anaconda3\\lib\\site-packages (from requests->facebook-sdk) (2019.3.9)\n",
      "Requirement already satisfied: urllib3<1.24,>=1.21.1 in c:\\users\\navarch\\anaconda3\\lib\\site-packages (from requests->facebook-sdk) (1.23)\n",
      "Requirement already satisfied: idna<2.8,>=2.5 in c:\\users\\navarch\\anaconda3\\lib\\site-packages (from requests->facebook-sdk) (2.7)\n",
      "Requirement already satisfied: chardet<3.1.0,>=3.0.2 in c:\\users\\navarch\\anaconda3\\lib\\site-packages (from requests->facebook-sdk) (3.0.4)\n",
      "Installing collected packages: facebook-sdk\n",
      "Successfully installed facebook-sdk-3.1.0\n"
     ]
    },
    {
     "name": "stderr",
     "output_type": "stream",
     "text": [
      "WARNING: You are using pip version 19.2.3, however version 19.3.1 is available.\n",
      "You should consider upgrading via the 'python -m pip install --upgrade pip' command.\n"
     ]
    }
   ],
   "source": [
    "!pip install facebook-sdk\n",
    "\n"
   ]
  },
  {
   "cell_type": "code",
   "execution_count": 24,
   "metadata": {},
   "outputs": [],
   "source": [
    "import facebook\n",
    "\n",
    "graph = facebook.GraphAPI(access_token=\"EAAOdCX5CNDwBAASblLdXFNqT7u0YZAo5TDBXf5PU7Jc4gEum6G5FqBe9Q1YZByTuNESXBVYe59QRdeKkxYYQThLv5XiyJGsz2o4X6WYYyfcfadWLZASycVkAProfUZBIez0qdveUUzIKag3bQbW2HOfQZAu1BMFe8X9EhJwgGQb76vD3a5NYzfS9iDF0mGilRhpZArvhTjlftVxPS9Fk13Q3atQQiD2gHOJ6g1Yk93OQZDZD\", version=\"2.12\")"
   ]
  },
  {
   "cell_type": "code",
   "execution_count": 31,
   "metadata": {},
   "outputs": [
    {
     "name": "stdout",
     "output_type": "stream",
     "text": [
      "{'data': [{'name': 'Mind Soul Art by Kajal Soni', 'id': '1642273299348245', 'created_time': '2020-01-05T22:02:38+0000'}, {'name': 'Samantha Akkineni', 'id': '255642654495756', 'created_time': '2020-01-05T22:02:38+0000'}, {'name': 'Jaane Tu, Jaane Na', 'id': '230262937031656', 'created_time': '2020-01-05T22:02:38+0000'}, {'name': 'Abhay Deol', 'id': '193634477322300', 'created_time': '2020-01-05T22:02:38+0000'}, {'name': 'Zindagi Na Milegi Dobara', 'id': '176228295759291', 'created_time': '2020-01-05T22:02:38+0000'}, {'name': 'Durjoy Datta', 'id': '116852198388214', 'created_time': '2020-01-05T22:02:38+0000'}, {'name': 'The Beatles', 'id': '69116329538', 'created_time': '2020-01-05T22:02:38+0000'}, {'name': 'Printology- Printing Services in Jaipur', 'id': '456064561102700', 'created_time': '2020-01-05T22:01:29+0000'}, {'name': 'POP ETC', 'id': '327119514000410', 'created_time': '2020-01-05T22:01:29+0000'}, {'name': '**LoVe NeEdS u N mE oNLy**', 'id': '215710008479018', 'created_time': '2020-01-05T22:01:29+0000'}, {'name': 'Umeed- A Drop of Hope', 'id': '176632092378318', 'created_time': '2020-01-05T22:01:29+0000'}, {'name': 'Arvind Kejriwal', 'id': '126600607383679', 'created_time': '2020-01-05T22:01:29+0000'}, {'name': 'Cafe Coffee Day', 'id': '193926289498', 'created_time': '2020-01-05T22:01:29+0000'}, {'name': 'Heart', 'id': '56095229859', 'created_time': '2020-01-05T22:01:29+0000'}, {'name': 'Slyck', 'id': '32327011304', 'created_time': '2020-01-05T22:01:29+0000'}, {'name': 'Diddy', 'id': '23291809696', 'created_time': '2020-01-05T22:01:29+0000'}, {'name': 'Josh Groban', 'id': '5862253001', 'created_time': '2020-01-05T22:01:29+0000'}, {'name': 'A Maze Race', 'id': '337934212898151', 'created_time': '2020-01-05T22:00:17+0000'}, {'name': 'Indian Food and Sweets', 'id': '248822871900895', 'created_time': '2020-01-05T22:00:17+0000'}, {'name': 'Final Drive Nitro', 'id': '125828177445705', 'created_time': '2020-01-05T22:00:17+0000'}, {'name': 'Class Bunkers', 'id': '116496608390027', 'created_time': '2020-01-05T22:00:17+0000'}, {'name': 'A r rehman', 'id': '114387548577633', 'created_time': '2020-01-05T22:00:17+0000'}, {'name': 'Rana Daggubati', 'id': '112941528716993', 'created_time': '2020-01-05T22:00:17+0000'}, {'name': 'Saregamapa', 'id': '110765142270613', 'created_time': '2020-01-05T22:00:17+0000'}, {'name': 'Raghav Sachar', 'id': '188913057298', 'created_time': '2020-01-05T22:00:17+0000'}], 'paging': {'cursors': {'before': 'MTY0MjI3MzI5OTM0ODI0NQZDZD', 'after': 'MTg4OTEzMDU3Mjk4'}, 'next': 'https://graph.facebook.com/v5.0/10218851942383652/likes?access_token=EAAOdCX5CNDwBAASblLdXFNqT7u0YZAo5TDBXf5PU7Jc4gEum6G5FqBe9Q1YZByTuNESXBVYe59QRdeKkxYYQThLv5XiyJGsz2o4X6WYYyfcfadWLZASycVkAProfUZBIez0qdveUUzIKag3bQbW2HOfQZAu1BMFe8X9EhJwgGQb76vD3a5NYzfS9iDF0mGilRhpZArvhTjlftVxPS9Fk13Q3atQQiD2gHOJ6g1Yk93OQZDZD&limit=25&after=MTg4OTEzMDU3Mjk4'}}\n"
     ]
    }
   ],
   "source": [
    "\n",
    "prof = graph.get_object(id='me', fields='likes')\n",
    "print(prof['likes'])"
   ]
  },
  {
   "cell_type": "markdown",
   "metadata": {},
   "source": [
    "def main():\n",
    "    token={}\n",
    "    graph=facebook.GraphAPI(token)\n",
    "    fields= ['id','name','about']\n",
    "    fields=','.join(fields)\n",
    "    new=graph.get_object(\"Salman Khan Movies\",fields=fields)\n",
    "    print(json.dumps(page, indent=4))\n",
    " \n",
    "if __name__==\" main \":\n",
    "    main()"
   ]
  },
  {
   "cell_type": "code",
   "execution_count": 37,
   "metadata": {},
   "outputs": [
    {
     "data": {
      "text/plain": [
       "{'data': [], 'summary': {'total_count': 495}}"
      ]
     },
     "execution_count": 37,
     "metadata": {},
     "output_type": "execute_result"
    }
   ],
   "source": [
    "friends = graph.get_connections(id='me', connection_name='friends')\n",
    "friends"
   ]
  },
  {
   "cell_type": "code",
   "execution_count": 48,
   "metadata": {},
   "outputs": [
    {
     "data": {
      "text/plain": [
       "{'data': [{'created_time': '2013-06-10T09:20:53+0000',\n",
       "   'id': '10200694505499078'},\n",
       "  {'created_time': '2013-06-10T09:20:40+0000', 'id': '10200694504899063'},\n",
       "  {'created_time': '2013-06-10T09:19:41+0000', 'id': '10200694502899013'},\n",
       "  {'created_time': '2013-06-10T09:19:27+0000', 'id': '10200694502338999'},\n",
       "  {'created_time': '2013-06-10T09:19:22+0000', 'id': '10200694501698983'},\n",
       "  {'created_time': '2013-06-10T09:18:51+0000', 'id': '10200694499418926'},\n",
       "  {'created_time': '2013-06-10T09:18:44+0000', 'id': '10200694498178895'},\n",
       "  {'created_time': '2013-06-10T09:18:43+0000', 'id': '10200694497978890'},\n",
       "  {'created_time': '2013-06-10T09:18:11+0000', 'id': '10200694496058842'},\n",
       "  {'created_time': '2013-06-10T09:17:44+0000', 'id': '10200694494538804'},\n",
       "  {'created_time': '2013-06-10T09:17:35+0000', 'id': '10200694493938789'},\n",
       "  {'created_time': '2013-06-10T09:17:25+0000', 'id': '10200694493298773'},\n",
       "  {'created_time': '2013-06-10T09:17:18+0000',\n",
       "   'name': 'At home',\n",
       "   'id': '10200694492738759'},\n",
       "  {'created_time': '2013-04-05T04:29:34+0000', 'id': '10200355437542591'},\n",
       "  {'created_time': '2013-04-05T04:32:06+0000', 'id': '10200355445942801'},\n",
       "  {'created_time': '2012-12-10T07:35:15+0000', 'id': '4544073713950'},\n",
       "  {'created_time': '2012-05-07T15:39:25+0000', 'id': '3565434328577'},\n",
       "  {'created_time': '2012-05-07T15:48:51+0000', 'id': '3565498250175'},\n",
       "  {'created_time': '2011-12-29T06:40:54+0000',\n",
       "   'name': 'Why Smoking is HARAM (Prohibited) in ISLAM??\\r\\nALLAH says in the Quran:\\r\\n\"O ye who believe! if you have Taqwaa of ALLAH, He will grant you a criterion (to judge between right and wrong)........\"\\r\\n\\r\\nThe verse of the Quran on the basis of which smoking is haraam.\\r\\n\\r\\nALLAH says in the Quran Ch 2 verse 195 :\\r\\n\"And spend of your substance in the cause of ALLAH, and make not your own hands contribute to (your) destruction; but do good; for ALLAH loveth those who do good.\"\\r\\n\\r\\nThe Holy Quran Chapter 5 verse 90:\\r\\n\"O ye who believe! Intoxicants and gambling, (dedication of) stones, and (divination by) arrows, are an abomination,- of Satan\\'s handwork: eschew such (abomination), that ye may prosper.\\r\\n\\r\\nSahih Bukhari Volume 5, Book 59, Number 631:\\r\\nNarrated Abi Burda:\\r\\n.........The Prophet said, \"All intoxicants are prohibited.\"\\r\\n\\r\\nSahih Muslim Book 023, Number 4963:\\r\\nIbn \\'Umar reported Allah\\'s Messenger (may peace be upon him) as saying: Every intoxicant is Khamr and every intoxicant is forbidden......\\r\\n\\r\\nwww.ewaytoquran.com',\n",
       "   'id': '211877792231465'},\n",
       "  {'created_time': '2011-11-20T14:07:43+0000', 'id': '2483070190150'}],\n",
       " 'paging': {'cursors': {'before': 'QVFIUk9qMjZAvc1lJaTlRUWZAlZAGZAlT0I3ZAWt2ZAGpWYTBqY1oxMUFtRDZAkZA1l3aXZASanJFd0tEZAlpKUUtqb1MyTUlIT3BqX1VCdU5ud1FWQWNROFBxX2dxeThn',\n",
       "   'after': 'QVFIUjdvMnFNTWpHT0ZAjd0daX2NFckhhRDlWaU9ENnM4MmZAYeHh2VUF6SFBwZAC0xcjZApMHFJNVhwYkFCM05GZAmd6UTBNd2Etd09sWndTMFBJUmN4aEZA0X2ZAn'}}}"
      ]
     },
     "execution_count": 48,
     "metadata": {},
     "output_type": "execute_result"
    }
   ],
   "source": [
    "# Get the comments from a post.\n",
    "pics = graph.get_connections(id='me', connection_name='photos')\n",
    "pics"
   ]
  },
  {
   "cell_type": "code",
   "execution_count": 49,
   "metadata": {},
   "outputs": [
    {
     "name": "stdout",
     "output_type": "stream",
     "text": [
      "https://www.facebook.com/v2.12/dialog/oauth?client_id=1231241241&redirect_uri=https%3A%2F%2Fdomain.com%2Fthat-handles-auth-response%2F&scope=manage_pages%2Cpublish_pages\n"
     ]
    }
   ],
   "source": [
    "app_id = \"1231241241\"\n",
    "canvas_url = \"https://domain.com/that-handles-auth-response/\"\n",
    "perms = [\"manage_pages\",\"publish_pages\"]\n",
    "fb_login_url = graph.get_auth_url(app_id, canvas_url, perms)\n",
    "print(fb_login_url)"
   ]
  },
  {
   "cell_type": "code",
   "execution_count": null,
   "metadata": {},
   "outputs": [],
   "source": []
  }
 ],
 "metadata": {
  "kernelspec": {
   "display_name": "Python 3",
   "language": "python",
   "name": "python3"
  },
  "language_info": {
   "name": ""
  }
 },
 "nbformat": 4,
 "nbformat_minor": 2
}
